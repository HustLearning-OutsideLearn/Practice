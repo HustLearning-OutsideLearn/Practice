{
  "nbformat": 4,
  "nbformat_minor": 0,
  "metadata": {
    "colab": {
      "name": "Poetry Generation.ipynb",
      "provenance": [],
      "collapsed_sections": [],
      "include_colab_link": true
    },
    "kernelspec": {
      "name": "python3",
      "display_name": "Python 3"
    },
    "language_info": {
      "name": "python"
    },
    "accelerator": "GPU"
  },
  "cells": [
    {
      "cell_type": "markdown",
      "metadata": {
        "id": "view-in-github",
        "colab_type": "text"
      },
      "source": [
        "<a href=\"https://colab.research.google.com/github/KhoiDOO/Practice/blob/main/Natural%20Language%20Processing/5.%20Text_Generation.ipynb\" target=\"_parent\"><img src=\"https://colab.research.google.com/assets/colab-badge.svg\" alt=\"Open In Colab\"/></a>"
      ]
    },
    {
      "cell_type": "code",
      "metadata": {
        "colab": {
          "base_uri": "https://localhost:8080/"
        },
        "id": "vSTb4kOhJPKK",
        "outputId": "09233a8f-bb2b-44fa-b60a-fefbb892d59c"
      },
      "source": [
        "import tensorflow as tf\n",
        "print(tf.__version__)\n",
        "from tensorflow.keras.preprocessing.sequence import pad_sequences\n",
        "from tensorflow.keras.layers import Embedding, LSTM, Dense, Dropout, Bidirectional\n",
        "from tensorflow.keras.preprocessing.text import Tokenizer\n",
        "from tensorflow.keras.models import Sequential\n",
        "from tensorflow.keras.optimizers import Adam\n",
        "from tensorflow.keras import regularizers\n",
        "import tensorflow.keras.utils as ku \n",
        "import numpy as np "
      ],
      "execution_count": null,
      "outputs": [
        {
          "output_type": "stream",
          "name": "stdout",
          "text": [
            "2.6.0\n"
          ]
        }
      ]
    },
    {
      "cell_type": "code",
      "metadata": {
        "colab": {
          "base_uri": "https://localhost:8080/"
        },
        "id": "TTnsWvhbJo_P",
        "outputId": "28c1e440-b546-4019-db89-c00d7a880b9c"
      },
      "source": [
        "# sonnets.txt\n",
        "!gdown --id 108jAePKK4R3BVYBbYJZ32JWUwxeMg20K\n",
        "\n",
        "data = open('./sonnets.txt').read()\n",
        "\n",
        "corpus = data.lower().split(\"\\n\")\n",
        "\n",
        "print('\\n')\n",
        "print(corpus[0])\n",
        "print(corpus[1])"
      ],
      "execution_count": null,
      "outputs": [
        {
          "output_type": "stream",
          "name": "stdout",
          "text": [
            "Downloading...\n",
            "From: https://drive.google.com/uc?id=108jAePKK4R3BVYBbYJZ32JWUwxeMg20K\n",
            "To: /content/sonnets.txt\n",
            "\r  0% 0.00/93.6k [00:00<?, ?B/s]\r100% 93.6k/93.6k [00:00<00:00, 34.8MB/s]\n",
            "\n",
            "\n",
            "from fairest creatures we desire increase,\n",
            "that thereby beauty's rose might never die,\n"
          ]
        }
      ]
    },
    {
      "cell_type": "code",
      "metadata": {
        "colab": {
          "base_uri": "https://localhost:8080/"
        },
        "id": "wjowdIcMmn-Z",
        "outputId": "0388cbed-27ca-4c24-8cc5-4a45359d754e"
      },
      "source": [
        "print(corpus[:20])"
      ],
      "execution_count": null,
      "outputs": [
        {
          "output_type": "stream",
          "name": "stdout",
          "text": [
            "['from fairest creatures we desire increase,', \"that thereby beauty's rose might never die,\", 'but as the riper should by time decease,', 'his tender heir might bear his memory:', 'but thou, contracted to thine own bright eyes,', \"feed'st thy light'st flame with self-substantial fuel,\", 'making a famine where abundance lies,', 'thyself thy foe, to thy sweet self too cruel.', \"thou that art now the world's fresh ornament\", 'and only herald to the gaudy spring,', 'within thine own bud buriest thy content', 'and, tender churl, makest waste in niggarding.', 'pity the world, or else this glutton be,', \"to eat the world's due, by the grave and thee.\", 'when forty winters shall beseige thy brow,', \"and dig deep trenches in thy beauty's field,\", \"thy youth's proud livery, so gazed on now,\", \"will be a tatter'd weed, of small worth held:\", \"then being ask'd where all thy beauty lies,\", 'where all the treasure of thy lusty days,']\n"
          ]
        }
      ]
    },
    {
      "cell_type": "code",
      "metadata": {
        "colab": {
          "base_uri": "https://localhost:8080/"
        },
        "id": "sjHR4I1RJvbo",
        "outputId": "7d148cf4-19e1-47ff-ffa7-cf4eda754c5e"
      },
      "source": [
        "print(len([i for i in corpus]))"
      ],
      "execution_count": null,
      "outputs": [
        {
          "output_type": "stream",
          "name": "stdout",
          "text": [
            "2159\n"
          ]
        }
      ]
    },
    {
      "cell_type": "code",
      "metadata": {
        "id": "196WrP8tJ1xs"
      },
      "source": [
        "tokenizer = Tokenizer()\n",
        "\n",
        "tokenizer.fit_on_texts(corpus)\n",
        "total_words = len(tokenizer.word_index) + 1\n",
        "\n",
        "# create input sequences using list of tokens\n",
        "input_sequences = []\n",
        "for line in corpus:\n",
        "\ttoken_list = tokenizer.texts_to_sequences([line])[0]\n",
        "\tfor i in range(1, len(token_list)):\n",
        "\t\tn_gram_sequence = token_list[:i+1]\n",
        "\t\tinput_sequences.append(n_gram_sequence)\n",
        "\n",
        "\n",
        "# pad sequences \n",
        "max_sequence_len = max([len(x) for x in input_sequences])\n",
        "input_sequences = np.array(pad_sequences(input_sequences, maxlen=max_sequence_len, padding='pre'))\n",
        "\n",
        "# create predictors and label\n",
        "predictors, label = input_sequences[:,:-1],input_sequences[:,-1]\n",
        "\n",
        "label = ku.to_categorical(label, num_classes=total_words)"
      ],
      "execution_count": null,
      "outputs": []
    },
    {
      "cell_type": "code",
      "metadata": {
        "colab": {
          "base_uri": "https://localhost:8080/"
        },
        "id": "DnXZSiZaKqqL",
        "outputId": "b22523ed-d0d5-4774-f5a2-f7b0b720df63"
      },
      "source": [
        "#Check type of predictors and label\n",
        "print(type(predictors))\n",
        "print(type(label))\n",
        "\n",
        "#Check total words\n",
        "print(total_words)"
      ],
      "execution_count": null,
      "outputs": [
        {
          "output_type": "stream",
          "name": "stdout",
          "text": [
            "<class 'numpy.ndarray'>\n",
            "<class 'numpy.ndarray'>\n",
            "3211\n"
          ]
        }
      ]
    },
    {
      "cell_type": "code",
      "metadata": {
        "colab": {
          "base_uri": "https://localhost:8080/"
        },
        "id": "Z7SHArBtNSUW",
        "outputId": "ab3c1f9a-e964-4344-c63c-4af7337c8e28"
      },
      "source": [
        "print(predictors[0])"
      ],
      "execution_count": null,
      "outputs": [
        {
          "output_type": "stream",
          "name": "stdout",
          "text": [
            "[ 0  0  0  0  0  0  0  0  0 34]\n"
          ]
        }
      ]
    },
    {
      "cell_type": "code",
      "metadata": {
        "colab": {
          "base_uri": "https://localhost:8080/"
        },
        "id": "KZAxnhZwNVOS",
        "outputId": "2b3fcf29-1729-4687-933c-9814d49e05f8"
      },
      "source": [
        "print(label[0])"
      ],
      "execution_count": null,
      "outputs": [
        {
          "output_type": "stream",
          "name": "stdout",
          "text": [
            "[0. 0. 0. ... 0. 0. 0.]\n"
          ]
        }
      ]
    },
    {
      "cell_type": "code",
      "metadata": {
        "id": "CsOsaN4sK6Qf"
      },
      "source": [
        "# Divide train and test dataset\n",
        "length = len([x for x in predictors])\n",
        "cut_off = 0.8\n",
        "split_point = int(length*cut_off)\n",
        "train, test = predictors[:,:split_point], predictors[:,split_point:]\n",
        "train_label, test_label = label[:,:split_point], label[:,split_point:]\n",
        "\n",
        "# Load to dataset\n",
        "train_dataset = tf.data.Dataset.from_tensor_slices((train, train_label))\n",
        "test_dataset = tf.data.Dataset.from_tensor_slices((test, test_label))\n",
        "\n",
        "# Add batch size, shuffle batch\n",
        "BATCH_SIZE = 64\n",
        "SHUFFLE_BUFFER_SIZE = 100\n",
        "\n",
        "train_dataset = train_dataset.shuffle(SHUFFLE_BUFFER_SIZE).batch(BATCH_SIZE)\n",
        "test_dataset = test_dataset.batch(BATCH_SIZE)"
      ],
      "execution_count": null,
      "outputs": []
    },
    {
      "cell_type": "code",
      "metadata": {
        "colab": {
          "base_uri": "https://localhost:8080/"
        },
        "id": "Rum-1Ks7NuE-",
        "outputId": "7362ff62-1716-49e0-8499-bb1c69ebbfd3"
      },
      "source": [
        "model = Sequential()\n",
        "model.add(Embedding(total_words, 256, input_length=max_sequence_len-1))\n",
        "model.add(Bidirectional(LSTM(512, return_sequences = True)))\n",
        "model.add(Dropout(0.2))\n",
        "model.add(LSTM(256, return_sequences = True))\n",
        "model.add(Dropout(0.2))\n",
        "model.add(LSTM(128))\n",
        "model.add(Dense(total_words/2, activation='relu', kernel_regularizer=regularizers.l2(0.01)))\n",
        "model.add(Dense(total_words, activation='softmax'))\n",
        "\n",
        "model.compile(loss='categorical_crossentropy', optimizer='adam', metrics=['accuracy'])\n",
        "\n",
        "print(model.summary())"
      ],
      "execution_count": null,
      "outputs": [
        {
          "output_type": "stream",
          "name": "stdout",
          "text": [
            "Model: \"sequential_1\"\n",
            "_________________________________________________________________\n",
            "Layer (type)                 Output Shape              Param #   \n",
            "=================================================================\n",
            "embedding_1 (Embedding)      (None, 10, 256)           822016    \n",
            "_________________________________________________________________\n",
            "bidirectional_1 (Bidirection (None, 10, 1024)          3149824   \n",
            "_________________________________________________________________\n",
            "dropout_1 (Dropout)          (None, 10, 1024)          0         \n",
            "_________________________________________________________________\n",
            "lstm_3 (LSTM)                (None, 10, 256)           1311744   \n",
            "_________________________________________________________________\n",
            "dropout_2 (Dropout)          (None, 10, 256)           0         \n",
            "_________________________________________________________________\n",
            "lstm_4 (LSTM)                (None, 128)               197120    \n",
            "_________________________________________________________________\n",
            "dense_2 (Dense)              (None, 1605)              207045    \n",
            "_________________________________________________________________\n",
            "dense_3 (Dense)              (None, 3211)              5156866   \n",
            "=================================================================\n",
            "Total params: 10,844,615\n",
            "Trainable params: 10,844,615\n",
            "Non-trainable params: 0\n",
            "_________________________________________________________________\n",
            "None\n"
          ]
        }
      ]
    },
    {
      "cell_type": "code",
      "metadata": {
        "colab": {
          "base_uri": "https://localhost:8080/"
        },
        "id": "Q-wzpoNKOXKS",
        "outputId": "f426c0bd-6b0a-4b61-ea9a-d3b649c0e7b6"
      },
      "source": [
        "history = model.fit(predictors, label,  epochs=100)"
      ],
      "execution_count": null,
      "outputs": [
        {
          "output_type": "stream",
          "name": "stdout",
          "text": [
            "Epoch 1/100\n",
            "484/484 [==============================] - 22s 32ms/step - loss: 6.9589 - accuracy: 0.0226\n",
            "Epoch 2/100\n",
            "484/484 [==============================] - 15s 32ms/step - loss: 6.5082 - accuracy: 0.0237\n",
            "Epoch 3/100\n",
            "484/484 [==============================] - 15s 32ms/step - loss: 6.3556 - accuracy: 0.0272\n",
            "Epoch 4/100\n",
            "484/484 [==============================] - 15s 31ms/step - loss: 6.2642 - accuracy: 0.0268\n",
            "Epoch 5/100\n",
            "484/484 [==============================] - 15s 31ms/step - loss: 6.1886 - accuracy: 0.0295\n",
            "Epoch 6/100\n",
            "484/484 [==============================] - 15s 31ms/step - loss: 6.1369 - accuracy: 0.0310\n",
            "Epoch 7/100\n",
            "484/484 [==============================] - 15s 32ms/step - loss: 6.0671 - accuracy: 0.0334\n",
            "Epoch 8/100\n",
            "484/484 [==============================] - 15s 31ms/step - loss: 6.0026 - accuracy: 0.0361\n",
            "Epoch 9/100\n",
            "484/484 [==============================] - 15s 31ms/step - loss: 5.9412 - accuracy: 0.0374\n",
            "Epoch 10/100\n",
            "484/484 [==============================] - 15s 32ms/step - loss: 5.8771 - accuracy: 0.0434\n",
            "Epoch 11/100\n",
            "484/484 [==============================] - 15s 31ms/step - loss: 5.8157 - accuracy: 0.0461\n",
            "Epoch 12/100\n",
            "484/484 [==============================] - 15s 31ms/step - loss: 5.7500 - accuracy: 0.0501\n",
            "Epoch 13/100\n",
            "484/484 [==============================] - 15s 31ms/step - loss: 5.6959 - accuracy: 0.0525\n",
            "Epoch 14/100\n",
            "484/484 [==============================] - 15s 32ms/step - loss: 5.6315 - accuracy: 0.0575\n",
            "Epoch 15/100\n",
            "484/484 [==============================] - 15s 31ms/step - loss: 5.5659 - accuracy: 0.0600\n",
            "Epoch 16/100\n",
            "484/484 [==============================] - 15s 31ms/step - loss: 5.5054 - accuracy: 0.0656\n",
            "Epoch 17/100\n",
            "484/484 [==============================] - 15s 31ms/step - loss: 5.4481 - accuracy: 0.0687\n",
            "Epoch 18/100\n",
            "484/484 [==============================] - 15s 31ms/step - loss: 5.3852 - accuracy: 0.0718\n",
            "Epoch 19/100\n",
            "484/484 [==============================] - 15s 32ms/step - loss: 5.3335 - accuracy: 0.0783\n",
            "Epoch 20/100\n",
            "484/484 [==============================] - 15s 31ms/step - loss: 5.2997 - accuracy: 0.0811\n",
            "Epoch 21/100\n",
            "484/484 [==============================] - 15s 31ms/step - loss: 5.2312 - accuracy: 0.0852\n",
            "Epoch 22/100\n",
            "484/484 [==============================] - 15s 31ms/step - loss: 5.1558 - accuracy: 0.0935\n",
            "Epoch 23/100\n",
            "484/484 [==============================] - 15s 32ms/step - loss: 5.0963 - accuracy: 0.0993\n",
            "Epoch 24/100\n",
            "484/484 [==============================] - 15s 32ms/step - loss: 5.0457 - accuracy: 0.1047\n",
            "Epoch 25/100\n",
            "484/484 [==============================] - 15s 31ms/step - loss: 4.9924 - accuracy: 0.1117\n",
            "Epoch 26/100\n",
            "484/484 [==============================] - 15s 31ms/step - loss: 4.9281 - accuracy: 0.1173\n",
            "Epoch 27/100\n",
            "484/484 [==============================] - 15s 32ms/step - loss: 4.8784 - accuracy: 0.1207\n",
            "Epoch 28/100\n",
            "484/484 [==============================] - 15s 31ms/step - loss: 4.8160 - accuracy: 0.1250\n",
            "Epoch 29/100\n",
            "484/484 [==============================] - 15s 31ms/step - loss: 4.7534 - accuracy: 0.1325\n",
            "Epoch 30/100\n",
            "484/484 [==============================] - 15s 32ms/step - loss: 4.7387 - accuracy: 0.1326\n",
            "Epoch 31/100\n",
            "484/484 [==============================] - 15s 32ms/step - loss: 4.6721 - accuracy: 0.1402\n",
            "Epoch 32/100\n",
            "484/484 [==============================] - 15s 31ms/step - loss: 4.5924 - accuracy: 0.1455\n",
            "Epoch 33/100\n",
            "484/484 [==============================] - 15s 31ms/step - loss: 4.5179 - accuracy: 0.1540\n",
            "Epoch 34/100\n",
            "484/484 [==============================] - 15s 32ms/step - loss: 4.4397 - accuracy: 0.1608\n",
            "Epoch 35/100\n",
            "484/484 [==============================] - 15s 32ms/step - loss: 4.3784 - accuracy: 0.1683\n",
            "Epoch 36/100\n",
            "484/484 [==============================] - 15s 31ms/step - loss: 4.3158 - accuracy: 0.1766\n",
            "Epoch 37/100\n",
            "484/484 [==============================] - 15s 31ms/step - loss: 4.2627 - accuracy: 0.1826\n",
            "Epoch 38/100\n",
            "484/484 [==============================] - 15s 32ms/step - loss: 4.1978 - accuracy: 0.1912\n",
            "Epoch 39/100\n",
            "484/484 [==============================] - 15s 32ms/step - loss: 4.1447 - accuracy: 0.1972\n",
            "Epoch 40/100\n",
            "484/484 [==============================] - 15s 31ms/step - loss: 4.0965 - accuracy: 0.2044\n",
            "Epoch 41/100\n",
            "484/484 [==============================] - 15s 31ms/step - loss: 4.0461 - accuracy: 0.2097\n",
            "Epoch 42/100\n",
            "484/484 [==============================] - 15s 31ms/step - loss: 3.9813 - accuracy: 0.2225\n",
            "Epoch 43/100\n",
            "484/484 [==============================] - 15s 32ms/step - loss: 3.9355 - accuracy: 0.2255\n",
            "Epoch 44/100\n",
            "484/484 [==============================] - 15s 32ms/step - loss: 3.8729 - accuracy: 0.2340\n",
            "Epoch 45/100\n",
            "484/484 [==============================] - 15s 31ms/step - loss: 3.8278 - accuracy: 0.2389\n",
            "Epoch 46/100\n",
            "484/484 [==============================] - 15s 31ms/step - loss: 3.8478 - accuracy: 0.2429\n",
            "Epoch 47/100\n",
            "484/484 [==============================] - 15s 31ms/step - loss: 3.7731 - accuracy: 0.2495\n",
            "Epoch 48/100\n",
            "484/484 [==============================] - 15s 31ms/step - loss: 3.7382 - accuracy: 0.2565\n",
            "Epoch 49/100\n",
            "484/484 [==============================] - 15s 31ms/step - loss: 3.6546 - accuracy: 0.2679\n",
            "Epoch 50/100\n",
            "484/484 [==============================] - 15s 31ms/step - loss: 3.6018 - accuracy: 0.2809\n",
            "Epoch 51/100\n",
            "484/484 [==============================] - 15s 32ms/step - loss: 3.7300 - accuracy: 0.2542\n",
            "Epoch 52/100\n",
            "484/484 [==============================] - 15s 31ms/step - loss: 3.6485 - accuracy: 0.2621\n",
            "Epoch 53/100\n",
            "484/484 [==============================] - 15s 31ms/step - loss: 3.5707 - accuracy: 0.2786\n",
            "Epoch 54/100\n",
            "484/484 [==============================] - 15s 32ms/step - loss: 3.6249 - accuracy: 0.2693\n",
            "Epoch 55/100\n",
            "484/484 [==============================] - 15s 32ms/step - loss: 3.5176 - accuracy: 0.2888\n",
            "Epoch 56/100\n",
            "484/484 [==============================] - 15s 31ms/step - loss: 3.4170 - accuracy: 0.3039\n",
            "Epoch 57/100\n",
            "484/484 [==============================] - 15s 31ms/step - loss: 3.3625 - accuracy: 0.3121\n",
            "Epoch 58/100\n",
            "484/484 [==============================] - 15s 31ms/step - loss: 3.2949 - accuracy: 0.3272\n",
            "Epoch 59/100\n",
            "484/484 [==============================] - 15s 32ms/step - loss: 3.2428 - accuracy: 0.3372\n",
            "Epoch 60/100\n",
            "484/484 [==============================] - 15s 31ms/step - loss: 3.1907 - accuracy: 0.3469\n",
            "Epoch 61/100\n",
            "484/484 [==============================] - 15s 31ms/step - loss: 3.1440 - accuracy: 0.3509\n",
            "Epoch 62/100\n",
            "484/484 [==============================] - 15s 31ms/step - loss: 3.1030 - accuracy: 0.3613\n",
            "Epoch 63/100\n",
            "484/484 [==============================] - 15s 32ms/step - loss: 3.0379 - accuracy: 0.3772\n",
            "Epoch 64/100\n",
            "484/484 [==============================] - 15s 31ms/step - loss: 2.9899 - accuracy: 0.3855\n",
            "Epoch 65/100\n",
            "484/484 [==============================] - 15s 31ms/step - loss: 2.9351 - accuracy: 0.3956\n",
            "Epoch 66/100\n",
            "484/484 [==============================] - 15s 32ms/step - loss: 2.9022 - accuracy: 0.4036\n",
            "Epoch 67/100\n",
            "484/484 [==============================] - 15s 32ms/step - loss: 2.8465 - accuracy: 0.4134\n",
            "Epoch 68/100\n",
            "484/484 [==============================] - 15s 32ms/step - loss: 2.8017 - accuracy: 0.4221\n",
            "Epoch 69/100\n",
            "484/484 [==============================] - 15s 32ms/step - loss: 2.7712 - accuracy: 0.4289\n",
            "Epoch 70/100\n",
            "484/484 [==============================] - 15s 32ms/step - loss: 2.7566 - accuracy: 0.4290\n",
            "Epoch 71/100\n",
            "484/484 [==============================] - 15s 32ms/step - loss: 2.7524 - accuracy: 0.4266\n",
            "Epoch 72/100\n",
            "484/484 [==============================] - 15s 32ms/step - loss: 2.6826 - accuracy: 0.4412\n",
            "Epoch 73/100\n",
            "484/484 [==============================] - 15s 32ms/step - loss: 2.6375 - accuracy: 0.4541\n",
            "Epoch 74/100\n",
            "484/484 [==============================] - 15s 32ms/step - loss: 2.5704 - accuracy: 0.4644\n",
            "Epoch 75/100\n",
            "484/484 [==============================] - 15s 32ms/step - loss: 2.5624 - accuracy: 0.4719\n",
            "Epoch 76/100\n",
            "484/484 [==============================] - 15s 32ms/step - loss: 2.5029 - accuracy: 0.4837\n",
            "Epoch 77/100\n",
            "484/484 [==============================] - 15s 31ms/step - loss: 2.4804 - accuracy: 0.4873\n",
            "Epoch 78/100\n",
            "484/484 [==============================] - 15s 32ms/step - loss: 2.4195 - accuracy: 0.4986\n",
            "Epoch 79/100\n",
            "484/484 [==============================] - 15s 32ms/step - loss: 2.3947 - accuracy: 0.5061\n",
            "Epoch 80/100\n",
            "484/484 [==============================] - 15s 32ms/step - loss: 2.3558 - accuracy: 0.5153\n",
            "Epoch 81/100\n",
            "484/484 [==============================] - 15s 32ms/step - loss: 2.3163 - accuracy: 0.5254\n",
            "Epoch 82/100\n",
            "484/484 [==============================] - 15s 32ms/step - loss: 2.2805 - accuracy: 0.5360\n",
            "Epoch 83/100\n",
            "484/484 [==============================] - 15s 32ms/step - loss: 2.2383 - accuracy: 0.5429\n",
            "Epoch 84/100\n",
            "484/484 [==============================] - 15s 32ms/step - loss: 2.2272 - accuracy: 0.5405\n",
            "Epoch 85/100\n",
            "484/484 [==============================] - 15s 32ms/step - loss: 2.1810 - accuracy: 0.5550\n",
            "Epoch 86/100\n",
            "484/484 [==============================] - 15s 32ms/step - loss: 2.1269 - accuracy: 0.5695\n",
            "Epoch 87/100\n",
            "484/484 [==============================] - 15s 32ms/step - loss: 2.1078 - accuracy: 0.5719\n",
            "Epoch 88/100\n",
            "484/484 [==============================] - 15s 32ms/step - loss: 2.1004 - accuracy: 0.5770\n",
            "Epoch 89/100\n",
            "484/484 [==============================] - 15s 32ms/step - loss: 2.0427 - accuracy: 0.5864\n",
            "Epoch 90/100\n",
            "484/484 [==============================] - 15s 32ms/step - loss: 2.0192 - accuracy: 0.5928\n",
            "Epoch 91/100\n",
            "484/484 [==============================] - 15s 32ms/step - loss: 2.0058 - accuracy: 0.5951\n",
            "Epoch 92/100\n",
            "484/484 [==============================] - 15s 32ms/step - loss: 1.9589 - accuracy: 0.6114\n",
            "Epoch 93/100\n",
            "484/484 [==============================] - 15s 32ms/step - loss: 1.9257 - accuracy: 0.6159\n",
            "Epoch 94/100\n",
            "484/484 [==============================] - 15s 32ms/step - loss: 1.9171 - accuracy: 0.6189\n",
            "Epoch 95/100\n",
            "484/484 [==============================] - 15s 32ms/step - loss: 1.8839 - accuracy: 0.6250\n",
            "Epoch 96/100\n",
            "484/484 [==============================] - 15s 32ms/step - loss: 1.8639 - accuracy: 0.6334\n",
            "Epoch 97/100\n",
            "484/484 [==============================] - 15s 32ms/step - loss: 1.8457 - accuracy: 0.6348\n",
            "Epoch 98/100\n",
            "484/484 [==============================] - 15s 32ms/step - loss: 1.8119 - accuracy: 0.6412\n",
            "Epoch 99/100\n",
            "484/484 [==============================] - 15s 32ms/step - loss: 1.8011 - accuracy: 0.6426\n",
            "Epoch 100/100\n",
            "484/484 [==============================] - 15s 32ms/step - loss: 1.7785 - accuracy: 0.6489\n"
          ]
        }
      ]
    },
    {
      "cell_type": "code",
      "metadata": {
        "id": "3x8J_33aPBzg",
        "colab": {
          "base_uri": "https://localhost:8080/",
          "height": 545
        },
        "outputId": "e1d4d49e-ff07-4408-d2a6-242715c9fc99"
      },
      "source": [
        "import matplotlib.pyplot as plt\n",
        "acc = history.history['accuracy']\n",
        "loss = history.history['loss']\n",
        "\n",
        "epochs = range(len(acc))\n",
        "\n",
        "plt.plot(epochs, acc, 'b', label='Training accuracy')\n",
        "plt.title('Training accuracy')\n",
        "\n",
        "plt.figure()\n",
        "\n",
        "plt.plot(epochs, loss, 'b', label='Training Loss')\n",
        "plt.title('Training loss')\n",
        "plt.legend()\n",
        "\n",
        "plt.show()"
      ],
      "execution_count": null,
      "outputs": [
        {
          "output_type": "display_data",
          "data": {
            "image/png": "[encoded data removed]",
            "text/plain": [
              "<Figure size 432x288 with 1 Axes>"
            ]
          },
          "metadata": {
            "needs_background": "light"
          }
        },
        {
          "output_type": "display_data",
          "data": {
            "image/png": "[encoded data removed]",
            "text/plain": [
              "<Figure size 432x288 with 1 Axes>"
            ]
          },
          "metadata": {
            "needs_background": "light"
          }
        }
      ]
    },
    {
      "cell_type": "code",
      "metadata": {
        "colab": {
          "base_uri": "https://localhost:8080/"
        },
        "id": "CowpQPf1etoQ",
        "outputId": "2765cbc5-3d11-4767-b9a7-a85866be3652"
      },
      "source": [
        "seed_text = \"Missing crush, Quan study harder\"\n",
        "next_words = 30\n",
        "  \n",
        "for _ in range(next_words):\n",
        "\ttoken_list = tokenizer.texts_to_sequences([seed_text])[0]\n",
        "\ttoken_list = pad_sequences([token_list], maxlen=max_sequence_len-1, padding='pre')\n",
        "\tpredicted = model.predict(token_list, verbose=0)\n",
        "\toutput_word = \"\"\n",
        "\tfor word, index in tokenizer.word_index.items():\n",
        "\t\tif index == np.argmax(predicted,axis=1):\n",
        "\t\t\toutput_word = word\n",
        "\t\t\tbreak\n",
        "\tseed_text += \" \" + output_word\n",
        "print(seed_text)"
      ],
      "execution_count": null,
      "outputs": [
        {
          "output_type": "stream",
          "name": "stdout",
          "text": [
            "Missing crush, Quan study harder art happy and in thine can see ever tend stay that stone holds her for my harmful desire pride well twain dead spent did denied lived stay days praise bearing\n"
          ]
        }
      ]
    },
    {
      "cell_type": "code",
      "metadata": {
        "colab": {
          "base_uri": "https://localhost:8080/"
        },
        "id": "lLMoS5EQg7rd",
        "outputId": "05d9fd39-1f00-4994-de6b-c5b0c1f5f194"
      },
      "source": [
        "print(len(seed_text))"
      ],
      "execution_count": null,
      "outputs": [
        {
          "output_type": "stream",
          "name": "stdout",
          "text": [
            "558\n"
          ]
        }
      ]
    },
    {
      "cell_type": "code",
      "metadata": {
        "colab": {
          "base_uri": "https://localhost:8080/"
        },
        "id": "c8CXb5hAhSob",
        "outputId": "9ddeebdd-0f2b-41d4-da0d-c91b2104e003"
      },
      "source": [
        "print(seed_text[:2000])"
      ],
      "execution_count": null,
      "outputs": [
        {
          "output_type": "stream",
          "name": "stdout",
          "text": [
            "Help me Obi Wan Kenobi, you're my only hope and toil was unjust lies new despised how in thine be turn'd dateless note see kiss me all her main fears o'er quite debate done ever stay such fire but level of your brow esteem gone wide date hours in bath doth live another part admiring fulfil them do you seem such painting spend clearer cold out of form well spent increase cold o'er glory discloses days ' water cut new cold o'er of woe lies lies kind up your memory hate even so more smell dead of all young away another shape even so more hell but glance all remember men's lie doth dwell in store so bright so near on one hour confined form hour unbless some mother pride so ill day seem wit well more sin new hate on we despise grace evil gone room sense in praise ' meet dead spent took razed esteem'd clearer light confined wrong speaking glory o'er old way spent valley jewel wights did taken dead perceived hate quite perceived 'not there did strive to prove none lies will chide him best prouder muse happy dead night doth spend bower lived was pride lies bring back again her fault doth spend blind brow clearer spent dead light lies hate form lies new pluck them in my deeds lies was true spent had honour so wouldst was your verse we curious days win youth where love's rude bait tell me lay in heaven doth words new thrall doth latch took them uphold happy stay my sorrows longer green my sorrows longer green my feeding is bent my deeds to cross dead spent took back again doth latch spent shown stay more excellent to show such gone to me to death ' cannot boast still all my verse honour wanting bad her view they grew some world exchanged happy shows new despise hour is him speak o'er on my feature clearer light dead twain stay your fire did quickly faces by war's odours tell thee thee all buried pen both rotten heir true frame that mend the world want kind and happy rehearse lies all famish'd from my head doth give love's loving lie that you new seen gone anew to kiss me wait\n"
          ]
        }
      ]
    }
  ]
}