{
  "nbformat": 4,
  "nbformat_minor": 0,
  "metadata": {
    "colab": {
      "name": "CNN + LSTM.ipynb",
      "provenance": [],
      "include_colab_link": true
    },
    "kernelspec": {
      "name": "python3",
      "display_name": "Python 3"
    },
    "language_info": {
      "name": "python"
    },
    "accelerator": "GPU"
  },
  "cells": [
    {
      "cell_type": "markdown",
      "metadata": {
        "id": "view-in-github",
        "colab_type": "text"
      },
      "source": [
        "<a href=\"https://colab.research.google.com/github/KhoiDOO/Practice/blob/main/Natural%20Language%20Processing/CNN_%2B_LSTM%20Model%20for%20Text%20Classification.ipynb\" target=\"_parent\"><img src=\"https://colab.research.google.com/assets/colab-badge.svg\" alt=\"Open In Colab\"/></a>"
      ]
    },
    {
      "cell_type": "code",
      "metadata": {
        "id": "hmA6EzkQJ5jt"
      },
      "source": [
        "import json\n",
        "import tensorflow as tf\n",
        "import csv\n",
        "import random\n",
        "import numpy as np\n",
        "\n",
        "from tensorflow.keras.preprocessing.text import Tokenizer\n",
        "from tensorflow.keras.preprocessing.sequence import pad_sequences\n",
        "from tensorflow.keras.utils import to_categorical\n",
        "from tensorflow.keras import regularizers\n",
        "\n",
        "\n",
        "embedding_dim = 100\n",
        "max_length = 16\n",
        "trunc_type='post'\n",
        "padding_type='post'\n",
        "oov_tok = \"<OOV>\"\n",
        "training_size=160000\n",
        "test_portion=.1\n",
        "\n",
        "corpus = []\n"
      ],
      "execution_count": null,
      "outputs": []
    },
    {
      "cell_type": "code",
      "metadata": {
        "id": "bM0l_dORKqE0",
        "colab": {
          "base_uri": "https://localhost:8080/"
        },
        "outputId": "bbb4c057-c3fc-4d7e-b61e-8a177916499e"
      },
      "source": [
        "# Note that I cleaned the Stanford dataset to remove LATIN1 encoding to make it easier for Python CSV reader\n",
        "# You can do that yourself with:\n",
        "# iconv -f LATIN1 -t UTF8 training.1600000.processed.noemoticon.csv -o training_cleaned.csv\n",
        "\n",
        "# training_cleaned.csv\n",
        "!gdown --id 1wd8KaeCSHxt-nEpMeuHFSNWrDp8joUXJ\n",
        "\n",
        "num_sentences = 0\n",
        "\n",
        "with open(\"./training_cleaned.csv\") as csvfile:\n",
        "    reader = csv.reader(csvfile, delimiter=',')\n",
        "    for row in reader:\n",
        "        list_item=[]\n",
        "        \n",
        "        ### START CODE HERE\n",
        "        list_item.append(row[5])\n",
        "        this_label=row[0]\n",
        "        if this_label=='0':\n",
        "            list_item.append(0)\n",
        "        else:\n",
        "            list_item.append(1)\n",
        "        ### END CODE HERE\n",
        "        \n",
        "        num_sentences = num_sentences + 1\n",
        "        corpus.append(list_item)\n"
      ],
      "execution_count": null,
      "outputs": [
        {
          "output_type": "stream",
          "name": "stdout",
          "text": [
            "Downloading...\n",
            "From: https://drive.google.com/uc?id=1wd8KaeCSHxt-nEpMeuHFSNWrDp8joUXJ\n",
            "To: /content/training_cleaned.csv\n",
            "100% 239M/239M [00:01<00:00, 166MB/s]\n"
          ]
        }
      ]
    },
    {
      "cell_type": "code",
      "metadata": {
        "id": "3kxblBUjEUX-",
        "colab": {
          "base_uri": "https://localhost:8080/"
        },
        "outputId": "b5b3b4a7-32f5-4eef-cffb-8cf1cb3917f0"
      },
      "source": [
        "print(num_sentences)\n",
        "print(len(corpus))\n",
        "print(corpus[1])\n",
        "\n",
        "# Expected Output:\n",
        "# 1600000\n",
        "# 1600000\n",
        "# [\"is upset that he can't update his Facebook by texting it... and might cry as a result  School today also. Blah!\", 0]"
      ],
      "execution_count": null,
      "outputs": [
        {
          "output_type": "stream",
          "name": "stdout",
          "text": [
            "1600000\n",
            "1600000\n",
            "[\"is upset that he can't update his Facebook by texting it... and might cry as a result  School today also. Blah!\", 0]\n"
          ]
        }
      ]
    },
    {
      "cell_type": "code",
      "metadata": {
        "id": "ohOGz24lsNAD"
      },
      "source": [
        "sentences=[]\n",
        "labels=[]\n",
        "random.shuffle(corpus)\n",
        "for x in range(training_size):\n",
        "    sentences.append(corpus[x][0])# YOUR CODE HERE)\n",
        "    labels.append(corpus[x][1])# YOUR CODE HERE)\n",
        "\n",
        "\n",
        "tokenizer = Tokenizer()\n",
        "tokenizer.fit_on_texts(sentences)# YOUR CODE HERE)\n",
        "\n",
        "word_index = tokenizer.word_index\n",
        "vocab_size=len(word_index)# YOUR CODE HERE)\n",
        "\n",
        "sequences = tokenizer.texts_to_sequences(sentences)# YOUR CODE HERE)\n",
        "padded = pad_sequences(sequences, maxlen=max_length, padding=padding_type, truncating=trunc_type)# YOUR CODE HERE)\n",
        "\n",
        "split = int(test_portion * training_size)\n",
        "\n",
        "test_sequences = padded[0:split]# YOUR CODE HERE)\n",
        "training_sequences = padded[split:training_size]# YOUR CODE HERE)\n",
        "test_labels = labels[0:split]# YOUR CODE HERE)\n",
        "training_labels = labels[split:training_size]# YOUR CODE HERE)"
      ],
      "execution_count": null,
      "outputs": []
    },
    {
      "cell_type": "code",
      "metadata": {
        "id": "gIrtRem1En3N",
        "colab": {
          "base_uri": "https://localhost:8080/"
        },
        "outputId": "e66275d1-f05b-4263-a548-2dbea36af3fd"
      },
      "source": [
        "print(vocab_size)\n",
        "print(word_index['i'])\n",
        "# Expected Output\n",
        "# 138856\n",
        "# 1"
      ],
      "execution_count": null,
      "outputs": [
        {
          "output_type": "stream",
          "name": "stdout",
          "text": [
            "138315\n",
            "1\n"
          ]
        }
      ]
    },
    {
      "cell_type": "code",
      "metadata": {
        "id": "C1zdgJkusRh0",
        "colab": {
          "base_uri": "https://localhost:8080/"
        },
        "outputId": "05cadd43-7321-4ada-e1a9-7a15b7efb935"
      },
      "source": [
        "# Note this is the 100 dimension version of GloVe from Stanford\n",
        "\n",
        "# glove.6B.100d.txt\n",
        "!gdown --id 1W5vZy2etitAblLdFn8_DxnsQKzfFJ98g\n",
        "\n",
        "embeddings_index = {};\n",
        "with open('./glove.6B.100d.txt') as f:\n",
        "    for line in f:\n",
        "        values = line.split();\n",
        "        word = values[0];\n",
        "        coefs = np.asarray(values[1:], dtype='float32');\n",
        "        embeddings_index[word] = coefs;\n",
        "\n",
        "embeddings_matrix = np.zeros((vocab_size+1, embedding_dim));\n",
        "for word, i in word_index.items():\n",
        "    embedding_vector = embeddings_index.get(word);\n",
        "    if embedding_vector is not None:\n",
        "        embeddings_matrix[i] = embedding_vector;"
      ],
      "execution_count": null,
      "outputs": [
        {
          "output_type": "stream",
          "name": "stdout",
          "text": [
            "Downloading...\n",
            "From: https://drive.google.com/uc?id=1W5vZy2etitAblLdFn8_DxnsQKzfFJ98g\n",
            "To: /content/glove.6B.100d.txt\n",
            "100% 347M/347M [00:03<00:00, 96.4MB/s]\n"
          ]
        }
      ]
    },
    {
      "cell_type": "code",
      "metadata": {
        "id": "71NLk_lpFLNt",
        "colab": {
          "base_uri": "https://localhost:8080/"
        },
        "outputId": "50bd98b6-bbc1-4013-9178-a115bbc5ff32"
      },
      "source": [
        "print(len(embeddings_matrix))\n",
        "# Expected Output\n",
        "# 138857"
      ],
      "execution_count": null,
      "outputs": [
        {
          "output_type": "stream",
          "name": "stdout",
          "text": [
            "138316\n"
          ]
        }
      ]
    },
    {
      "cell_type": "code",
      "metadata": {
        "id": "iKKvbuEBOGFz",
        "colab": {
          "base_uri": "https://localhost:8080/"
        },
        "outputId": "a142c8d8-c3f6-4d15-b9ed-f1764ce65fc8"
      },
      "source": [
        "model = tf.keras.Sequential([\n",
        "    # YOUR CODE HERE\n",
        "    tf.keras.layers.Embedding(vocab_size+1, embedding_dim, input_length=max_length, weights=[embeddings_matrix], trainable=False),\n",
        "    tf.keras.layers.Dropout(0.2),\n",
        "    tf.keras.layers.Conv1D(64, 5, activation='relu'),\n",
        "    tf.keras.layers.MaxPooling1D(pool_size=4),\n",
        "    tf.keras.layers.LSTM(64),\n",
        "    tf.keras.layers.Dense(1, activation='sigmoid')\n",
        "])\n",
        "model.compile(loss='binary_crossentropy',optimizer='adam',metrics=['accuracy'])# YOUR CODE HERE)\n",
        "model.summary()\n",
        "\n",
        "num_epochs = 50\n",
        "\n",
        "training_padded = np.array(training_sequences)\n",
        "training_labels = np.array(training_labels)\n",
        "testing_padded = np.array(test_sequences)\n",
        "testing_labels = np.array(test_labels)\n",
        "\n",
        "history = model.fit(training_padded, training_labels, epochs=num_epochs, validation_data=(testing_padded, testing_labels), verbose=2)\n",
        "\n",
        "print(\"Training Complete\")"
      ],
      "execution_count": null,
      "outputs": [
        {
          "output_type": "stream",
          "name": "stdout",
          "text": [
            "Model: \"sequential\"\n",
            "_________________________________________________________________\n",
            "Layer (type)                 Output Shape              Param #   \n",
            "=================================================================\n",
            "embedding (Embedding)        (None, 16, 100)           13831600  \n",
            "_________________________________________________________________\n",
            "dropout (Dropout)            (None, 16, 100)           0         \n",
            "_________________________________________________________________\n",
            "conv1d (Conv1D)              (None, 12, 64)            32064     \n",
            "_________________________________________________________________\n",
            "max_pooling1d (MaxPooling1D) (None, 3, 64)             0         \n",
            "_________________________________________________________________\n",
            "lstm (LSTM)                  (None, 64)                33024     \n",
            "_________________________________________________________________\n",
            "dense (Dense)                (None, 1)                 65        \n",
            "=================================================================\n",
            "Total params: 13,896,753\n",
            "Trainable params: 65,153\n",
            "Non-trainable params: 13,831,600\n",
            "_________________________________________________________________\n",
            "Epoch 1/50\n",
            "4500/4500 - 50s - loss: 0.5646 - accuracy: 0.7012 - val_loss: 0.5261 - val_accuracy: 0.7364\n",
            "Epoch 2/50\n",
            "4500/4500 - 17s - loss: 0.5245 - accuracy: 0.7341 - val_loss: 0.5122 - val_accuracy: 0.7475\n",
            "Epoch 3/50\n",
            "4500/4500 - 18s - loss: 0.5073 - accuracy: 0.7457 - val_loss: 0.5081 - val_accuracy: 0.7518\n",
            "Epoch 4/50\n",
            "4500/4500 - 17s - loss: 0.4961 - accuracy: 0.7543 - val_loss: 0.5074 - val_accuracy: 0.7506\n",
            "Epoch 5/50\n",
            "4500/4500 - 17s - loss: 0.4869 - accuracy: 0.7600 - val_loss: 0.5057 - val_accuracy: 0.7518\n",
            "Epoch 6/50\n",
            "4500/4500 - 17s - loss: 0.4807 - accuracy: 0.7641 - val_loss: 0.5074 - val_accuracy: 0.7501\n",
            "Epoch 7/50\n",
            "4500/4500 - 18s - loss: 0.4741 - accuracy: 0.7684 - val_loss: 0.5008 - val_accuracy: 0.7561\n",
            "Epoch 8/50\n",
            "4500/4500 - 17s - loss: 0.4698 - accuracy: 0.7711 - val_loss: 0.5077 - val_accuracy: 0.7574\n",
            "Epoch 9/50\n",
            "4500/4500 - 18s - loss: 0.4647 - accuracy: 0.7729 - val_loss: 0.5040 - val_accuracy: 0.7539\n",
            "Epoch 10/50\n",
            "4500/4500 - 18s - loss: 0.4617 - accuracy: 0.7752 - val_loss: 0.5028 - val_accuracy: 0.7592\n",
            "Epoch 11/50\n",
            "4500/4500 - 17s - loss: 0.4579 - accuracy: 0.7782 - val_loss: 0.5075 - val_accuracy: 0.7552\n",
            "Epoch 12/50\n",
            "4500/4500 - 18s - loss: 0.4550 - accuracy: 0.7799 - val_loss: 0.5081 - val_accuracy: 0.7541\n",
            "Epoch 13/50\n",
            "4500/4500 - 18s - loss: 0.4520 - accuracy: 0.7814 - val_loss: 0.5107 - val_accuracy: 0.7531\n",
            "Epoch 14/50\n",
            "4500/4500 - 18s - loss: 0.4497 - accuracy: 0.7841 - val_loss: 0.5114 - val_accuracy: 0.7531\n",
            "Epoch 15/50\n",
            "4500/4500 - 18s - loss: 0.4478 - accuracy: 0.7841 - val_loss: 0.5094 - val_accuracy: 0.7524\n",
            "Epoch 16/50\n",
            "4500/4500 - 18s - loss: 0.4458 - accuracy: 0.7849 - val_loss: 0.5071 - val_accuracy: 0.7547\n",
            "Epoch 17/50\n",
            "4500/4500 - 18s - loss: 0.4434 - accuracy: 0.7871 - val_loss: 0.5108 - val_accuracy: 0.7541\n",
            "Epoch 18/50\n",
            "4500/4500 - 18s - loss: 0.4432 - accuracy: 0.7865 - val_loss: 0.5101 - val_accuracy: 0.7534\n",
            "Epoch 19/50\n",
            "4500/4500 - 18s - loss: 0.4411 - accuracy: 0.7878 - val_loss: 0.5133 - val_accuracy: 0.7534\n",
            "Epoch 20/50\n",
            "4500/4500 - 17s - loss: 0.4401 - accuracy: 0.7877 - val_loss: 0.5155 - val_accuracy: 0.7510\n",
            "Epoch 21/50\n",
            "4500/4500 - 18s - loss: 0.4374 - accuracy: 0.7905 - val_loss: 0.5188 - val_accuracy: 0.7531\n",
            "Epoch 22/50\n",
            "4500/4500 - 18s - loss: 0.4382 - accuracy: 0.7898 - val_loss: 0.5118 - val_accuracy: 0.7529\n",
            "Epoch 23/50\n",
            "4500/4500 - 17s - loss: 0.4360 - accuracy: 0.7910 - val_loss: 0.5176 - val_accuracy: 0.7531\n",
            "Epoch 24/50\n",
            "4500/4500 - 17s - loss: 0.4353 - accuracy: 0.7915 - val_loss: 0.5187 - val_accuracy: 0.7522\n",
            "Epoch 25/50\n",
            "4500/4500 - 18s - loss: 0.4345 - accuracy: 0.7923 - val_loss: 0.5180 - val_accuracy: 0.7482\n",
            "Epoch 26/50\n",
            "4500/4500 - 18s - loss: 0.4345 - accuracy: 0.7916 - val_loss: 0.5194 - val_accuracy: 0.7507\n",
            "Epoch 27/50\n",
            "4500/4500 - 18s - loss: 0.4318 - accuracy: 0.7937 - val_loss: 0.5203 - val_accuracy: 0.7500\n",
            "Epoch 28/50\n",
            "4500/4500 - 18s - loss: 0.4331 - accuracy: 0.7931 - val_loss: 0.5219 - val_accuracy: 0.7511\n",
            "Epoch 29/50\n",
            "4500/4500 - 18s - loss: 0.4311 - accuracy: 0.7942 - val_loss: 0.5230 - val_accuracy: 0.7477\n",
            "Epoch 30/50\n",
            "4500/4500 - 18s - loss: 0.4317 - accuracy: 0.7938 - val_loss: 0.5224 - val_accuracy: 0.7459\n",
            "Epoch 31/50\n",
            "4500/4500 - 18s - loss: 0.4312 - accuracy: 0.7944 - val_loss: 0.5207 - val_accuracy: 0.7482\n",
            "Epoch 32/50\n",
            "4500/4500 - 18s - loss: 0.4294 - accuracy: 0.7946 - val_loss: 0.5212 - val_accuracy: 0.7476\n",
            "Epoch 33/50\n",
            "4500/4500 - 18s - loss: 0.4297 - accuracy: 0.7947 - val_loss: 0.5240 - val_accuracy: 0.7496\n",
            "Epoch 34/50\n",
            "4500/4500 - 18s - loss: 0.4283 - accuracy: 0.7964 - val_loss: 0.5258 - val_accuracy: 0.7466\n",
            "Epoch 35/50\n",
            "4500/4500 - 18s - loss: 0.4288 - accuracy: 0.7959 - val_loss: 0.5271 - val_accuracy: 0.7487\n",
            "Epoch 36/50\n",
            "4500/4500 - 18s - loss: 0.4283 - accuracy: 0.7959 - val_loss: 0.5226 - val_accuracy: 0.7479\n",
            "Epoch 37/50\n",
            "4500/4500 - 18s - loss: 0.4266 - accuracy: 0.7967 - val_loss: 0.5302 - val_accuracy: 0.7483\n",
            "Epoch 38/50\n",
            "4500/4500 - 18s - loss: 0.4269 - accuracy: 0.7972 - val_loss: 0.5271 - val_accuracy: 0.7458\n",
            "Epoch 39/50\n",
            "4500/4500 - 17s - loss: 0.4282 - accuracy: 0.7963 - val_loss: 0.5368 - val_accuracy: 0.7449\n",
            "Epoch 40/50\n",
            "4500/4500 - 17s - loss: 0.4267 - accuracy: 0.7961 - val_loss: 0.5306 - val_accuracy: 0.7473\n",
            "Epoch 41/50\n",
            "4500/4500 - 17s - loss: 0.4261 - accuracy: 0.7970 - val_loss: 0.5222 - val_accuracy: 0.7462\n",
            "Epoch 42/50\n",
            "4500/4500 - 17s - loss: 0.4268 - accuracy: 0.7971 - val_loss: 0.5247 - val_accuracy: 0.7437\n",
            "Epoch 43/50\n",
            "4500/4500 - 17s - loss: 0.4270 - accuracy: 0.7961 - val_loss: 0.5275 - val_accuracy: 0.7477\n",
            "Epoch 44/50\n",
            "4500/4500 - 17s - loss: 0.4274 - accuracy: 0.7959 - val_loss: 0.5300 - val_accuracy: 0.7477\n",
            "Epoch 45/50\n",
            "4500/4500 - 17s - loss: 0.4253 - accuracy: 0.7969 - val_loss: 0.5222 - val_accuracy: 0.7452\n",
            "Epoch 46/50\n",
            "4500/4500 - 17s - loss: 0.4256 - accuracy: 0.7983 - val_loss: 0.5291 - val_accuracy: 0.7501\n",
            "Epoch 47/50\n",
            "4500/4500 - 17s - loss: 0.4253 - accuracy: 0.7968 - val_loss: 0.5338 - val_accuracy: 0.7471\n",
            "Epoch 48/50\n",
            "4500/4500 - 17s - loss: 0.4242 - accuracy: 0.7979 - val_loss: 0.5212 - val_accuracy: 0.7495\n",
            "Epoch 49/50\n",
            "4500/4500 - 17s - loss: 0.4243 - accuracy: 0.7981 - val_loss: 0.5300 - val_accuracy: 0.7466\n",
            "Epoch 50/50\n",
            "4500/4500 - 17s - loss: 0.4231 - accuracy: 0.7994 - val_loss: 0.5327 - val_accuracy: 0.7484\n",
            "Training Complete\n"
          ]
        }
      ]
    },
    {
      "cell_type": "code",
      "metadata": {
        "id": "qxju4ItJKO8F",
        "colab": {
          "base_uri": "https://localhost:8080/",
          "height": 605
        },
        "outputId": "cee506e2-9104-4aec-ba62-a3a50c71459b"
      },
      "source": [
        "import matplotlib.image  as mpimg\n",
        "import matplotlib.pyplot as plt\n",
        "\n",
        "#-----------------------------------------------------------\n",
        "# Retrieve a list of list results on training and test data\n",
        "# sets for each training epoch\n",
        "#-----------------------------------------------------------\n",
        "acc=history.history['accuracy']\n",
        "val_acc=history.history['val_accuracy']\n",
        "loss=history.history['loss']\n",
        "val_loss=history.history['val_loss']\n",
        "\n",
        "epochs=range(len(acc)) # Get number of epochs\n",
        "\n",
        "#------------------------------------------------\n",
        "# Plot training and validation accuracy per epoch\n",
        "#------------------------------------------------\n",
        "plt.plot(epochs, acc, 'r')\n",
        "plt.plot(epochs, val_acc, 'b')\n",
        "plt.title('Training and validation accuracy')\n",
        "plt.xlabel(\"Epochs\")\n",
        "plt.ylabel(\"Accuracy\")\n",
        "plt.legend([\"Accuracy\", \"Validation Accuracy\"])\n",
        "\n",
        "plt.figure()\n",
        "\n",
        "#------------------------------------------------\n",
        "# Plot training and validation loss per epoch\n",
        "#------------------------------------------------\n",
        "plt.plot(epochs, loss, 'r')\n",
        "plt.plot(epochs, val_loss, 'b')\n",
        "plt.title('Training and validation loss')\n",
        "plt.xlabel(\"Epochs\")\n",
        "plt.ylabel(\"Loss\")\n",
        "plt.legend([\"Loss\", \"Validation Loss\"])\n",
        "\n",
        "plt.figure()\n",
        "\n",
        "\n",
        "# Expected Output\n",
        "# A chart where the validation loss does not increase sharply!"
      ],
      "execution_count": null,
      "outputs": [
        {
          "output_type": "execute_result",
          "data": {
            "text/plain": [
              "<Figure size 432x288 with 0 Axes>"
            ]
          },
          "metadata": {},
          "execution_count": 9
        },
        {
          "output_type": "display_data",
          "data": {
            "image/png": "[encoded data removed]",
            "text/plain": [
              "<Figure size 432x288 with 1 Axes>"
            ]
          },
          "metadata": {
            "needs_background": "light"
          }
        },
        {
          "output_type": "display_data",
          "data": {
            "image/png": "[encoded data removed]",
            "text/plain": [
              "<Figure size 432x288 with 1 Axes>"
            ]
          },
          "metadata": {
            "needs_background": "light"
          }
        },
        {
          "output_type": "display_data",
          "data": {
            "text/plain": [
              "<Figure size 432x288 with 0 Axes>"
            ]
          },
          "metadata": {}
        }
      ]
    }
  ]
}
