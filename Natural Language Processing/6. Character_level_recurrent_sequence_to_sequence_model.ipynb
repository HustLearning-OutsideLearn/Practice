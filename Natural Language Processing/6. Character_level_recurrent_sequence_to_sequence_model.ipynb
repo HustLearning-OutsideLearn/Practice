{
  "nbformat": 4,
  "nbformat_minor": 0,
  "metadata": {
    "colab": {
      "name": "Character-level recurrent sequence-to-sequence model.ipynb",
      "provenance": [],
      "authorship_tag": "ABX9TyPUsy+WoZXGOHMtbR5NW/9I",
      "include_colab_link": true
    },
    "kernelspec": {
      "name": "python3",
      "display_name": "Python 3"
    },
    "language_info": {
      "name": "python"
    },
    "accelerator": "GPU"
  },
  "cells": [
    {
      "cell_type": "markdown",
      "metadata": {
        "id": "view-in-github",
        "colab_type": "text"
      },
      "source": [
        "<a href=\"https://colab.research.google.com/github/KhoiDOO/Practice/blob/main/Natural%20Language%20Processing/6.%20Character_level_recurrent_sequence_to_sequence_model.ipynb\" target=\"_parent\"><img src=\"https://colab.research.google.com/assets/colab-badge.svg\" alt=\"Open In Colab\"/></a>"
      ]
    },
    {
      "cell_type": "markdown",
      "source": [
        "# Introduction\n",
        "This example demonstrates how to implement a basic character-level recurrent sequence-to-sequence model. We apply it to translating short English sentences into short French sentences, character-by-character. Note that it is fairly unusual to do character-level machine translation, as word-level models are more common in this domain."
      ],
      "metadata": {
        "id": "PmM30h2ZWg9S"
      }
    },
    {
      "cell_type": "markdown",
      "source": [
        "# Summary of the algorithm\n",
        "- We start with input sequences from a domain (e.g. English sentences) and corresponding target sequences from another domain (e.g. French sentences).\n",
        "- An encoder LSTM turns input sequences to 2 state vectors (we keep the last LSTM state and discard the outputs).\n",
        "- A decoder LSTM is trained to turn the target sequences into the same sequence but offset by one timestep in the future, a training process called \"teacher forcing\" in this context. It uses as initial state the state vectors from the encoder. Effectively, the decoder learns to generate targets[t+1...] given targets[...t], conditioned on the input sequence.\n",
        "- In inference mode, when we want to decode unknown input sequences, we: - Encode the input sequence into state vectors - Start with a target sequence of size 1 (just the start-of-sequence character) - Feed the state vectors and 1-char target sequence to the decoder to produce predictions for the next character - Sample the next character using these predictions (we simply use argmax). - Append the sampled character to the target sequence - Repeat until we generate the end-of-sequence character or we hit the character limit."
      ],
      "metadata": {
        "id": "Z78hP-l4WmAe"
      }
    },
    {
      "cell_type": "markdown",
      "source": [
        "# Setup"
      ],
      "metadata": {
        "id": "LEAt2SwUW22N"
      }
    },
    {
      "cell_type": "code",
      "execution_count": 1,
      "metadata": {
        "id": "cgTzTNjCWbsV"
      },
      "outputs": [],
      "source": [
        "import numpy as np\n",
        "import tensorflow as tf\n",
        "from tensorflow import keras"
      ]
    },
    {
      "cell_type": "markdown",
      "source": [
        "# Download the data"
      ],
      "metadata": {
        "id": "-kXRZHHJW6jA"
      }
    },
    {
      "cell_type": "code",
      "source": [
        "!!curl -O http://www.manythings.org/anki/fra-eng.zip\n",
        "!!unzip fra-eng.zip"
      ],
      "metadata": {
        "colab": {
          "base_uri": "https://localhost:8080/"
        },
        "id": "49pdbXRMW5pl",
        "outputId": "11cea4aa-8f72-4733-9eb3-1792633b8e75"
      },
      "execution_count": 2,
      "outputs": [
        {
          "output_type": "execute_result",
          "data": {
            "text/plain": [
              "['Archive:  fra-eng.zip',\n",
              " '  inflating: _about.txt              ',\n",
              " '  inflating: fra.txt                 ']"
            ]
          },
          "metadata": {},
          "execution_count": 2
        }
      ]
    },
    {
      "cell_type": "markdown",
      "source": [
        "# Configuration"
      ],
      "metadata": {
        "id": "m-S_lDIcXDaZ"
      }
    },
    {
      "cell_type": "code",
      "source": [
        "batch_size = 64  # Batch size for training.\n",
        "epochs = 100  # Number of epochs to train for.\n",
        "latent_dim = 256  # Latent dimensionality of the encoding space.\n",
        "num_samples = 10000  # Number of samples to train on.\n",
        "# Path to the data txt file on disk.\n",
        "data_path = \"fra.txt\""
      ],
      "metadata": {
        "id": "GcJEtprnXA8C"
      },
      "execution_count": 3,
      "outputs": []
    },
    {
      "cell_type": "markdown",
      "source": [
        "# Prepare the data"
      ],
      "metadata": {
        "id": "g31Pb5d8XIrs"
      }
    },
    {
      "cell_type": "code",
      "source": [
        "# Vectorize the data.\n",
        "input_texts = []\n",
        "target_texts = []\n",
        "input_characters = set()\n",
        "target_characters = set()\n",
        "with open(data_path, \"r\", encoding=\"utf-8\") as f:\n",
        "    lines = f.read().split(\"\\n\")\n",
        "for line in lines[: min(num_samples, len(lines) - 1)]:\n",
        "    input_text, target_text, _ = line.split(\"\\t\")\n",
        "    # We use \"tab\" as the \"start sequence\" character\n",
        "    # for the targets, and \"\\n\" as \"end sequence\" character.\n",
        "    target_text = \"\\t\" + target_text + \"\\n\"\n",
        "    input_texts.append(input_text)\n",
        "    target_texts.append(target_text)\n",
        "    for char in input_text:\n",
        "        if char not in input_characters:\n",
        "            input_characters.add(char)\n",
        "    for char in target_text:\n",
        "        if char not in target_characters:\n",
        "            target_characters.add(char)\n",
        "\n",
        "input_characters = sorted(list(input_characters))\n",
        "target_characters = sorted(list(target_characters))\n",
        "num_encoder_tokens = len(input_characters)\n",
        "num_decoder_tokens = len(target_characters)\n",
        "max_encoder_seq_length = max([len(txt) for txt in input_texts])\n",
        "max_decoder_seq_length = max([len(txt) for txt in target_texts])\n",
        "\n",
        "print(\"Number of samples:\", len(input_texts))\n",
        "print(\"Number of unique input tokens:\", num_encoder_tokens)\n",
        "print(\"Number of unique output tokens:\", num_decoder_tokens)\n",
        "print(\"Max sequence length for inputs:\", max_encoder_seq_length)\n",
        "print(\"Max sequence length for outputs:\", max_decoder_seq_length)\n",
        "\n",
        "input_token_index = dict([(char, i) for i, char in enumerate(input_characters)])\n",
        "target_token_index = dict([(char, i) for i, char in enumerate(target_characters)])\n",
        "\n",
        "encoder_input_data = np.zeros(\n",
        "    (len(input_texts), max_encoder_seq_length, num_encoder_tokens), dtype=\"float32\"\n",
        ")\n",
        "decoder_input_data = np.zeros(\n",
        "    (len(input_texts), max_decoder_seq_length, num_decoder_tokens), dtype=\"float32\"\n",
        ")\n",
        "decoder_target_data = np.zeros(\n",
        "    (len(input_texts), max_decoder_seq_length, num_decoder_tokens), dtype=\"float32\"\n",
        ")\n",
        "\n",
        "for i, (input_text, target_text) in enumerate(zip(input_texts, target_texts)):\n",
        "    for t, char in enumerate(input_text):\n",
        "        encoder_input_data[i, t, input_token_index[char]] = 1.0\n",
        "    encoder_input_data[i, t + 1 :, input_token_index[\" \"]] = 1.0\n",
        "    for t, char in enumerate(target_text):\n",
        "        # decoder_target_data is ahead of decoder_input_data by one timestep\n",
        "        decoder_input_data[i, t, target_token_index[char]] = 1.0\n",
        "        if t > 0:\n",
        "            # decoder_target_data will be ahead by one timestep\n",
        "            # and will not include the start character.\n",
        "            decoder_target_data[i, t - 1, target_token_index[char]] = 1.0\n",
        "    decoder_input_data[i, t + 1 :, target_token_index[\" \"]] = 1.0\n",
        "    decoder_target_data[i, t:, target_token_index[\" \"]] = 1.0"
      ],
      "metadata": {
        "colab": {
          "base_uri": "https://localhost:8080/"
        },
        "id": "Y7sxTs7GXGr9",
        "outputId": "9b65169b-0280-45cb-b65e-3bc5b5575912"
      },
      "execution_count": 4,
      "outputs": [
        {
          "output_type": "stream",
          "name": "stdout",
          "text": [
            "Number of samples: 10000\n",
            "Number of unique input tokens: 71\n",
            "Number of unique output tokens: 92\n",
            "Max sequence length for inputs: 15\n",
            "Max sequence length for outputs: 59\n"
          ]
        }
      ]
    },
    {
      "cell_type": "markdown",
      "source": [
        "## Build the model"
      ],
      "metadata": {
        "id": "YtwYenXEXTD-"
      }
    },
    {
      "cell_type": "code",
      "source": [
        "# Define an input sequence and process it.\n",
        "encoder_inputs = keras.Input(shape=(None, num_encoder_tokens))\n",
        "encoder = keras.layers.LSTM(latent_dim, return_state=True)\n",
        "encoder_outputs, state_h, state_c = encoder(encoder_inputs)\n",
        "\n",
        "# We discard `encoder_outputs` and only keep the states.\n",
        "encoder_states = [state_h, state_c]\n",
        "\n",
        "# Set up the decoder, using `encoder_states` as initial state.\n",
        "decoder_inputs = keras.Input(shape=(None, num_decoder_tokens))\n",
        "\n",
        "# We set up our decoder to return full output sequences,\n",
        "# and to return internal states as well. We don't use the\n",
        "# return states in the training model, but we will use them in inference.\n",
        "decoder_lstm = keras.layers.LSTM(latent_dim, return_sequences=True, return_state=True)\n",
        "decoder_outputs, _, _ = decoder_lstm(decoder_inputs, initial_state=encoder_states)\n",
        "decoder_dense = keras.layers.Dense(num_decoder_tokens, activation=\"softmax\")\n",
        "decoder_outputs = decoder_dense(decoder_outputs)\n",
        "\n",
        "# Define the model that will turn\n",
        "# `encoder_input_data` & `decoder_input_data` into `decoder_target_data`\n",
        "model = keras.Model([encoder_inputs, decoder_inputs], decoder_outputs)"
      ],
      "metadata": {
        "id": "A-czFHuzXMhi"
      },
      "execution_count": 5,
      "outputs": []
    },
    {
      "cell_type": "code",
      "source": [
        "model.compile(\n",
        "    optimizer=\"rmsprop\", loss=\"categorical_crossentropy\", metrics=[\"accuracy\"]\n",
        ")\n",
        "model.fit(\n",
        "    [encoder_input_data, decoder_input_data],\n",
        "    decoder_target_data,\n",
        "    batch_size=batch_size,\n",
        "    epochs=epochs,\n",
        "    validation_split=0.1,\n",
        ")\n",
        "# Save model\n",
        "model.save(\"s2s\")"
      ],
      "metadata": {
        "colab": {
          "base_uri": "https://localhost:8080/"
        },
        "id": "NaElnSa8XXml",
        "outputId": "797274b4-28ac-441f-b218-f535d94a7948"
      },
      "execution_count": 6,
      "outputs": [
        {
          "output_type": "stream",
          "name": "stdout",
          "text": [
            "Epoch 1/100\n",
            "141/141 [==============================] - 13s 41ms/step - loss: 1.1190 - accuracy: 0.7362 - val_loss: 1.0041 - val_accuracy: 0.7246\n",
            "Epoch 2/100\n",
            "141/141 [==============================] - 5s 33ms/step - loss: 0.7820 - accuracy: 0.7872 - val_loss: 0.8175 - val_accuracy: 0.7684\n",
            "Epoch 3/100\n",
            "141/141 [==============================] - 5s 32ms/step - loss: 0.6426 - accuracy: 0.8188 - val_loss: 0.6958 - val_accuracy: 0.7919\n",
            "Epoch 4/100\n",
            "141/141 [==============================] - 5s 32ms/step - loss: 0.5606 - accuracy: 0.8358 - val_loss: 0.6177 - val_accuracy: 0.8218\n",
            "Epoch 5/100\n",
            "141/141 [==============================] - 5s 33ms/step - loss: 0.5144 - accuracy: 0.8490 - val_loss: 0.5798 - val_accuracy: 0.8304\n",
            "Epoch 6/100\n",
            "141/141 [==============================] - 5s 33ms/step - loss: 0.4807 - accuracy: 0.8582 - val_loss: 0.5504 - val_accuracy: 0.8379\n",
            "Epoch 7/100\n",
            "141/141 [==============================] - 5s 34ms/step - loss: 0.4532 - accuracy: 0.8661 - val_loss: 0.5323 - val_accuracy: 0.8446\n",
            "Epoch 8/100\n",
            "141/141 [==============================] - 5s 32ms/step - loss: 0.4291 - accuracy: 0.8725 - val_loss: 0.5175 - val_accuracy: 0.8469\n",
            "Epoch 9/100\n",
            "141/141 [==============================] - 5s 33ms/step - loss: 0.4086 - accuracy: 0.8779 - val_loss: 0.4967 - val_accuracy: 0.8515\n",
            "Epoch 10/100\n",
            "141/141 [==============================] - 5s 33ms/step - loss: 0.3900 - accuracy: 0.8831 - val_loss: 0.4902 - val_accuracy: 0.8549\n",
            "Epoch 11/100\n",
            "141/141 [==============================] - 5s 33ms/step - loss: 0.3732 - accuracy: 0.8879 - val_loss: 0.4751 - val_accuracy: 0.8615\n",
            "Epoch 12/100\n",
            "141/141 [==============================] - 5s 32ms/step - loss: 0.3575 - accuracy: 0.8924 - val_loss: 0.4706 - val_accuracy: 0.8602\n",
            "Epoch 13/100\n",
            "141/141 [==============================] - 5s 33ms/step - loss: 0.3425 - accuracy: 0.8969 - val_loss: 0.4602 - val_accuracy: 0.8649\n",
            "Epoch 14/100\n",
            "141/141 [==============================] - 5s 33ms/step - loss: 0.3295 - accuracy: 0.9006 - val_loss: 0.4626 - val_accuracy: 0.8641\n",
            "Epoch 15/100\n",
            "141/141 [==============================] - 5s 33ms/step - loss: 0.3165 - accuracy: 0.9043 - val_loss: 0.4529 - val_accuracy: 0.8658\n",
            "Epoch 16/100\n",
            "141/141 [==============================] - 5s 33ms/step - loss: 0.3050 - accuracy: 0.9079 - val_loss: 0.4514 - val_accuracy: 0.8685\n",
            "Epoch 17/100\n",
            "141/141 [==============================] - 5s 33ms/step - loss: 0.2937 - accuracy: 0.9111 - val_loss: 0.4498 - val_accuracy: 0.8672\n",
            "Epoch 18/100\n",
            "141/141 [==============================] - 5s 35ms/step - loss: 0.2832 - accuracy: 0.9144 - val_loss: 0.4483 - val_accuracy: 0.8703\n",
            "Epoch 19/100\n",
            "141/141 [==============================] - 5s 33ms/step - loss: 0.2731 - accuracy: 0.9174 - val_loss: 0.4497 - val_accuracy: 0.8700\n",
            "Epoch 20/100\n",
            "141/141 [==============================] - 5s 32ms/step - loss: 0.2637 - accuracy: 0.9204 - val_loss: 0.4449 - val_accuracy: 0.8714\n",
            "Epoch 21/100\n",
            "141/141 [==============================] - 5s 33ms/step - loss: 0.2546 - accuracy: 0.9229 - val_loss: 0.4482 - val_accuracy: 0.8713\n",
            "Epoch 22/100\n",
            "141/141 [==============================] - 5s 33ms/step - loss: 0.2460 - accuracy: 0.9255 - val_loss: 0.4494 - val_accuracy: 0.8721\n",
            "Epoch 23/100\n",
            "141/141 [==============================] - 5s 33ms/step - loss: 0.2380 - accuracy: 0.9278 - val_loss: 0.4528 - val_accuracy: 0.8717\n",
            "Epoch 24/100\n",
            "141/141 [==============================] - 5s 32ms/step - loss: 0.2298 - accuracy: 0.9302 - val_loss: 0.4562 - val_accuracy: 0.8710\n",
            "Epoch 25/100\n",
            "141/141 [==============================] - 5s 33ms/step - loss: 0.2221 - accuracy: 0.9327 - val_loss: 0.4554 - val_accuracy: 0.8734\n",
            "Epoch 26/100\n",
            "141/141 [==============================] - 5s 33ms/step - loss: 0.2151 - accuracy: 0.9346 - val_loss: 0.4589 - val_accuracy: 0.8722\n",
            "Epoch 27/100\n",
            "141/141 [==============================] - 5s 33ms/step - loss: 0.2082 - accuracy: 0.9366 - val_loss: 0.4649 - val_accuracy: 0.8733\n",
            "Epoch 28/100\n",
            "141/141 [==============================] - 5s 33ms/step - loss: 0.2015 - accuracy: 0.9387 - val_loss: 0.4639 - val_accuracy: 0.8727\n",
            "Epoch 29/100\n",
            "141/141 [==============================] - 5s 34ms/step - loss: 0.1951 - accuracy: 0.9405 - val_loss: 0.4719 - val_accuracy: 0.8731\n",
            "Epoch 30/100\n",
            "141/141 [==============================] - 5s 33ms/step - loss: 0.1892 - accuracy: 0.9423 - val_loss: 0.4732 - val_accuracy: 0.8731\n",
            "Epoch 31/100\n",
            "141/141 [==============================] - 5s 33ms/step - loss: 0.1834 - accuracy: 0.9439 - val_loss: 0.4740 - val_accuracy: 0.8742\n",
            "Epoch 32/100\n",
            "141/141 [==============================] - 5s 32ms/step - loss: 0.1779 - accuracy: 0.9458 - val_loss: 0.4834 - val_accuracy: 0.8722\n",
            "Epoch 33/100\n",
            "141/141 [==============================] - 5s 33ms/step - loss: 0.1727 - accuracy: 0.9474 - val_loss: 0.4867 - val_accuracy: 0.8746\n",
            "Epoch 34/100\n",
            "141/141 [==============================] - 5s 33ms/step - loss: 0.1674 - accuracy: 0.9489 - val_loss: 0.4965 - val_accuracy: 0.8722\n",
            "Epoch 35/100\n",
            "141/141 [==============================] - 5s 33ms/step - loss: 0.1629 - accuracy: 0.9500 - val_loss: 0.4988 - val_accuracy: 0.8726\n",
            "Epoch 36/100\n",
            "141/141 [==============================] - 5s 32ms/step - loss: 0.1579 - accuracy: 0.9518 - val_loss: 0.5078 - val_accuracy: 0.8719\n",
            "Epoch 37/100\n",
            "141/141 [==============================] - 4s 32ms/step - loss: 0.1541 - accuracy: 0.9529 - val_loss: 0.5060 - val_accuracy: 0.8727\n",
            "Epoch 38/100\n",
            "141/141 [==============================] - 5s 32ms/step - loss: 0.1496 - accuracy: 0.9541 - val_loss: 0.5173 - val_accuracy: 0.8717\n",
            "Epoch 39/100\n",
            "141/141 [==============================] - 4s 32ms/step - loss: 0.1456 - accuracy: 0.9551 - val_loss: 0.5147 - val_accuracy: 0.8717\n",
            "Epoch 40/100\n",
            "141/141 [==============================] - 5s 33ms/step - loss: 0.1411 - accuracy: 0.9564 - val_loss: 0.5213 - val_accuracy: 0.8700\n",
            "Epoch 41/100\n",
            "141/141 [==============================] - 5s 33ms/step - loss: 0.1377 - accuracy: 0.9575 - val_loss: 0.5302 - val_accuracy: 0.8715\n",
            "Epoch 42/100\n",
            "141/141 [==============================] - 5s 32ms/step - loss: 0.1339 - accuracy: 0.9585 - val_loss: 0.5277 - val_accuracy: 0.8726\n",
            "Epoch 43/100\n",
            "141/141 [==============================] - 5s 32ms/step - loss: 0.1307 - accuracy: 0.9595 - val_loss: 0.5415 - val_accuracy: 0.8716\n",
            "Epoch 44/100\n",
            "141/141 [==============================] - 4s 32ms/step - loss: 0.1271 - accuracy: 0.9606 - val_loss: 0.5402 - val_accuracy: 0.8716\n",
            "Epoch 45/100\n",
            "141/141 [==============================] - 5s 33ms/step - loss: 0.1240 - accuracy: 0.9617 - val_loss: 0.5509 - val_accuracy: 0.8706\n",
            "Epoch 46/100\n",
            "141/141 [==============================] - 5s 33ms/step - loss: 0.1207 - accuracy: 0.9627 - val_loss: 0.5540 - val_accuracy: 0.8713\n",
            "Epoch 47/100\n",
            "141/141 [==============================] - 5s 32ms/step - loss: 0.1179 - accuracy: 0.9633 - val_loss: 0.5586 - val_accuracy: 0.8702\n",
            "Epoch 48/100\n",
            "141/141 [==============================] - 5s 32ms/step - loss: 0.1149 - accuracy: 0.9643 - val_loss: 0.5625 - val_accuracy: 0.8722\n",
            "Epoch 49/100\n",
            "141/141 [==============================] - 5s 32ms/step - loss: 0.1121 - accuracy: 0.9652 - val_loss: 0.5688 - val_accuracy: 0.8717\n",
            "Epoch 50/100\n",
            "141/141 [==============================] - 5s 33ms/step - loss: 0.1096 - accuracy: 0.9658 - val_loss: 0.5737 - val_accuracy: 0.8720\n",
            "Epoch 51/100\n",
            "141/141 [==============================] - 5s 34ms/step - loss: 0.1067 - accuracy: 0.9667 - val_loss: 0.5803 - val_accuracy: 0.8702\n",
            "Epoch 52/100\n",
            "141/141 [==============================] - 5s 33ms/step - loss: 0.1044 - accuracy: 0.9676 - val_loss: 0.5817 - val_accuracy: 0.8714\n",
            "Epoch 53/100\n",
            "141/141 [==============================] - 5s 32ms/step - loss: 0.1021 - accuracy: 0.9679 - val_loss: 0.5944 - val_accuracy: 0.8697\n",
            "Epoch 54/100\n",
            "141/141 [==============================] - 5s 32ms/step - loss: 0.1001 - accuracy: 0.9686 - val_loss: 0.5854 - val_accuracy: 0.8715\n",
            "Epoch 55/100\n",
            "141/141 [==============================] - 5s 33ms/step - loss: 0.0978 - accuracy: 0.9693 - val_loss: 0.5915 - val_accuracy: 0.8716\n",
            "Epoch 56/100\n",
            "141/141 [==============================] - 5s 33ms/step - loss: 0.0953 - accuracy: 0.9699 - val_loss: 0.6057 - val_accuracy: 0.8703\n",
            "Epoch 57/100\n",
            "141/141 [==============================] - 5s 32ms/step - loss: 0.0931 - accuracy: 0.9708 - val_loss: 0.6046 - val_accuracy: 0.8703\n",
            "Epoch 58/100\n",
            "141/141 [==============================] - 5s 32ms/step - loss: 0.0913 - accuracy: 0.9713 - val_loss: 0.6119 - val_accuracy: 0.8709\n",
            "Epoch 59/100\n",
            "141/141 [==============================] - 5s 32ms/step - loss: 0.0893 - accuracy: 0.9717 - val_loss: 0.6120 - val_accuracy: 0.8698\n",
            "Epoch 60/100\n",
            "141/141 [==============================] - 5s 33ms/step - loss: 0.0875 - accuracy: 0.9721 - val_loss: 0.6170 - val_accuracy: 0.8705\n",
            "Epoch 61/100\n",
            "141/141 [==============================] - 5s 33ms/step - loss: 0.0858 - accuracy: 0.9725 - val_loss: 0.6313 - val_accuracy: 0.8689\n",
            "Epoch 62/100\n",
            "141/141 [==============================] - 5s 33ms/step - loss: 0.0839 - accuracy: 0.9732 - val_loss: 0.6327 - val_accuracy: 0.8695\n",
            "Epoch 63/100\n",
            "141/141 [==============================] - 5s 32ms/step - loss: 0.0821 - accuracy: 0.9738 - val_loss: 0.6354 - val_accuracy: 0.8701\n",
            "Epoch 64/100\n",
            "141/141 [==============================] - 5s 32ms/step - loss: 0.0803 - accuracy: 0.9742 - val_loss: 0.6468 - val_accuracy: 0.8688\n",
            "Epoch 65/100\n",
            "141/141 [==============================] - 5s 33ms/step - loss: 0.0789 - accuracy: 0.9746 - val_loss: 0.6446 - val_accuracy: 0.8703\n",
            "Epoch 66/100\n",
            "141/141 [==============================] - 5s 33ms/step - loss: 0.0775 - accuracy: 0.9750 - val_loss: 0.6464 - val_accuracy: 0.8700\n",
            "Epoch 67/100\n",
            "141/141 [==============================] - 5s 32ms/step - loss: 0.0763 - accuracy: 0.9752 - val_loss: 0.6571 - val_accuracy: 0.8701\n",
            "Epoch 68/100\n",
            "141/141 [==============================] - 5s 33ms/step - loss: 0.0746 - accuracy: 0.9757 - val_loss: 0.6585 - val_accuracy: 0.8689\n",
            "Epoch 69/100\n",
            "141/141 [==============================] - 5s 33ms/step - loss: 0.0731 - accuracy: 0.9762 - val_loss: 0.6674 - val_accuracy: 0.8696\n",
            "Epoch 70/100\n",
            "141/141 [==============================] - 5s 33ms/step - loss: 0.0718 - accuracy: 0.9765 - val_loss: 0.6711 - val_accuracy: 0.8694\n",
            "Epoch 71/100\n",
            "141/141 [==============================] - 5s 33ms/step - loss: 0.0707 - accuracy: 0.9769 - val_loss: 0.6698 - val_accuracy: 0.8704\n",
            "Epoch 72/100\n",
            "141/141 [==============================] - 5s 33ms/step - loss: 0.0691 - accuracy: 0.9773 - val_loss: 0.6817 - val_accuracy: 0.8683\n",
            "Epoch 73/100\n",
            "141/141 [==============================] - 5s 33ms/step - loss: 0.0681 - accuracy: 0.9777 - val_loss: 0.6819 - val_accuracy: 0.8689\n",
            "Epoch 74/100\n",
            "141/141 [==============================] - 5s 33ms/step - loss: 0.0664 - accuracy: 0.9781 - val_loss: 0.6890 - val_accuracy: 0.8690\n",
            "Epoch 75/100\n",
            "141/141 [==============================] - 5s 33ms/step - loss: 0.0656 - accuracy: 0.9783 - val_loss: 0.6883 - val_accuracy: 0.8697\n",
            "Epoch 76/100\n",
            "141/141 [==============================] - 5s 33ms/step - loss: 0.0641 - accuracy: 0.9786 - val_loss: 0.6859 - val_accuracy: 0.8700\n",
            "Epoch 77/100\n",
            "141/141 [==============================] - 5s 33ms/step - loss: 0.0632 - accuracy: 0.9790 - val_loss: 0.6960 - val_accuracy: 0.8682\n",
            "Epoch 78/100\n",
            "141/141 [==============================] - 5s 33ms/step - loss: 0.0619 - accuracy: 0.9793 - val_loss: 0.6946 - val_accuracy: 0.8684\n",
            "Epoch 79/100\n",
            "141/141 [==============================] - 5s 32ms/step - loss: 0.0609 - accuracy: 0.9797 - val_loss: 0.7064 - val_accuracy: 0.8680\n",
            "Epoch 80/100\n",
            "141/141 [==============================] - 5s 33ms/step - loss: 0.0600 - accuracy: 0.9799 - val_loss: 0.7231 - val_accuracy: 0.8660\n",
            "Epoch 81/100\n",
            "141/141 [==============================] - 5s 33ms/step - loss: 0.0591 - accuracy: 0.9802 - val_loss: 0.7111 - val_accuracy: 0.8685\n",
            "Epoch 82/100\n",
            "141/141 [==============================] - 5s 33ms/step - loss: 0.0583 - accuracy: 0.9803 - val_loss: 0.7194 - val_accuracy: 0.8690\n",
            "Epoch 83/100\n",
            "141/141 [==============================] - 5s 33ms/step - loss: 0.0572 - accuracy: 0.9807 - val_loss: 0.7239 - val_accuracy: 0.8685\n",
            "Epoch 84/100\n",
            "141/141 [==============================] - 5s 32ms/step - loss: 0.0564 - accuracy: 0.9809 - val_loss: 0.7276 - val_accuracy: 0.8681\n",
            "Epoch 85/100\n",
            "141/141 [==============================] - 5s 32ms/step - loss: 0.0554 - accuracy: 0.9812 - val_loss: 0.7275 - val_accuracy: 0.8684\n",
            "Epoch 86/100\n",
            "141/141 [==============================] - 5s 33ms/step - loss: 0.0546 - accuracy: 0.9813 - val_loss: 0.7311 - val_accuracy: 0.8682\n",
            "Epoch 87/100\n",
            "141/141 [==============================] - 5s 33ms/step - loss: 0.0537 - accuracy: 0.9816 - val_loss: 0.7382 - val_accuracy: 0.8677\n",
            "Epoch 88/100\n",
            "141/141 [==============================] - 5s 33ms/step - loss: 0.0529 - accuracy: 0.9820 - val_loss: 0.7432 - val_accuracy: 0.8679\n",
            "Epoch 89/100\n",
            "141/141 [==============================] - 5s 33ms/step - loss: 0.0522 - accuracy: 0.9820 - val_loss: 0.7475 - val_accuracy: 0.8680\n",
            "Epoch 90/100\n",
            "141/141 [==============================] - 5s 32ms/step - loss: 0.0515 - accuracy: 0.9823 - val_loss: 0.7492 - val_accuracy: 0.8682\n",
            "Epoch 91/100\n",
            "141/141 [==============================] - 5s 32ms/step - loss: 0.0506 - accuracy: 0.9825 - val_loss: 0.7446 - val_accuracy: 0.8687\n",
            "Epoch 92/100\n",
            "141/141 [==============================] - 5s 32ms/step - loss: 0.0503 - accuracy: 0.9826 - val_loss: 0.7568 - val_accuracy: 0.8672\n",
            "Epoch 93/100\n",
            "141/141 [==============================] - 5s 33ms/step - loss: 0.0494 - accuracy: 0.9829 - val_loss: 0.7544 - val_accuracy: 0.8683\n",
            "Epoch 94/100\n",
            "141/141 [==============================] - 5s 33ms/step - loss: 0.0487 - accuracy: 0.9830 - val_loss: 0.7697 - val_accuracy: 0.8678\n",
            "Epoch 95/100\n",
            "141/141 [==============================] - 5s 33ms/step - loss: 0.0480 - accuracy: 0.9832 - val_loss: 0.7758 - val_accuracy: 0.8677\n",
            "Epoch 96/100\n",
            "141/141 [==============================] - 5s 33ms/step - loss: 0.0476 - accuracy: 0.9833 - val_loss: 0.7627 - val_accuracy: 0.8688\n",
            "Epoch 97/100\n",
            "141/141 [==============================] - 5s 32ms/step - loss: 0.0468 - accuracy: 0.9836 - val_loss: 0.7671 - val_accuracy: 0.8682\n",
            "Epoch 98/100\n",
            "141/141 [==============================] - 5s 32ms/step - loss: 0.0464 - accuracy: 0.9836 - val_loss: 0.7724 - val_accuracy: 0.8689\n",
            "Epoch 99/100\n",
            "141/141 [==============================] - 5s 33ms/step - loss: 0.0457 - accuracy: 0.9838 - val_loss: 0.7724 - val_accuracy: 0.8681\n",
            "Epoch 100/100\n",
            "141/141 [==============================] - 5s 33ms/step - loss: 0.0455 - accuracy: 0.9839 - val_loss: 0.7737 - val_accuracy: 0.8685\n"
          ]
        },
        {
          "output_type": "stream",
          "name": "stderr",
          "text": [
            "WARNING:absl:Found untraced functions such as lstm_cell_layer_call_fn, lstm_cell_layer_call_and_return_conditional_losses, lstm_cell_1_layer_call_fn, lstm_cell_1_layer_call_and_return_conditional_losses while saving (showing 4 of 4). These functions will not be directly callable after loading.\n"
          ]
        },
        {
          "output_type": "stream",
          "name": "stdout",
          "text": [
            "INFO:tensorflow:Assets written to: s2s/assets\n"
          ]
        },
        {
          "output_type": "stream",
          "name": "stderr",
          "text": [
            "INFO:tensorflow:Assets written to: s2s/assets\n",
            "WARNING:absl:<keras.layers.recurrent.LSTMCell object at 0x7ff053979250> has the same name 'LSTMCell' as a built-in Keras object. Consider renaming <class 'keras.layers.recurrent.LSTMCell'> to avoid naming conflicts when loading with `tf.keras.models.load_model`. If renaming is not possible, pass the object in the `custom_objects` parameter of the load function.\n",
            "WARNING:absl:<keras.layers.recurrent.LSTMCell object at 0x7ff050767610> has the same name 'LSTMCell' as a built-in Keras object. Consider renaming <class 'keras.layers.recurrent.LSTMCell'> to avoid naming conflicts when loading with `tf.keras.models.load_model`. If renaming is not possible, pass the object in the `custom_objects` parameter of the load function.\n"
          ]
        }
      ]
    },
    {
      "cell_type": "markdown",
      "source": [
        "# Run inference (sampling)\n",
        "- encode input and retrieve initial decoder state\n",
        "- run one step of decoder with this initial state and a \"start of sequence\" token as target. Output will be the next target token.\n",
        "- Repeat with the current target token and current states"
      ],
      "metadata": {
        "id": "d470bMQ7XfPv"
      }
    },
    {
      "cell_type": "code",
      "source": [
        "# Define sampling models\n",
        "# Restore the model and construct the encoder and decoder.\n",
        "model = keras.models.load_model(\"s2s\")\n",
        "\n",
        "encoder_inputs = model.input[0]  # input_1\n",
        "encoder_outputs, state_h_enc, state_c_enc = model.layers[2].output  # lstm_1\n",
        "encoder_states = [state_h_enc, state_c_enc]\n",
        "encoder_model = keras.Model(encoder_inputs, encoder_states)\n",
        "\n",
        "decoder_inputs = model.input[1]  # input_2\n",
        "decoder_state_input_h = keras.Input(shape=(latent_dim,))\n",
        "decoder_state_input_c = keras.Input(shape=(latent_dim,))\n",
        "decoder_states_inputs = [decoder_state_input_h, decoder_state_input_c]\n",
        "decoder_lstm = model.layers[3]\n",
        "decoder_outputs, state_h_dec, state_c_dec = decoder_lstm(\n",
        "    decoder_inputs, initial_state=decoder_states_inputs\n",
        ")\n",
        "decoder_states = [state_h_dec, state_c_dec]\n",
        "decoder_dense = model.layers[4]\n",
        "decoder_outputs = decoder_dense(decoder_outputs)\n",
        "decoder_model = keras.Model(\n",
        "    [decoder_inputs] + decoder_states_inputs, [decoder_outputs] + decoder_states\n",
        ")\n",
        "\n",
        "# Reverse-lookup token index to decode sequences back to\n",
        "# something readable.\n",
        "reverse_input_char_index = dict((i, char) for char, i in input_token_index.items())\n",
        "reverse_target_char_index = dict((i, char) for char, i in target_token_index.items())\n",
        "\n",
        "\n",
        "def decode_sequence(input_seq):\n",
        "    # Encode the input as state vectors.\n",
        "    states_value = encoder_model.predict(input_seq)\n",
        "\n",
        "    # Generate empty target sequence of length 1.\n",
        "    target_seq = np.zeros((1, 1, num_decoder_tokens))\n",
        "    # Populate the first character of target sequence with the start character.\n",
        "    target_seq[0, 0, target_token_index[\"\\t\"]] = 1.0\n",
        "\n",
        "    # Sampling loop for a batch of sequences\n",
        "    # (to simplify, here we assume a batch of size 1).\n",
        "    stop_condition = False\n",
        "    decoded_sentence = \"\"\n",
        "    while not stop_condition:\n",
        "        output_tokens, h, c = decoder_model.predict([target_seq] + states_value)\n",
        "\n",
        "        # Sample a token\n",
        "        sampled_token_index = np.argmax(output_tokens[0, -1, :])\n",
        "        sampled_char = reverse_target_char_index[sampled_token_index]\n",
        "        decoded_sentence += sampled_char\n",
        "\n",
        "        # Exit condition: either hit max length\n",
        "        # or find stop character.\n",
        "        if sampled_char == \"\\n\" or len(decoded_sentence) > max_decoder_seq_length:\n",
        "            stop_condition = True\n",
        "\n",
        "        # Update the target sequence (of length 1).\n",
        "        target_seq = np.zeros((1, 1, num_decoder_tokens))\n",
        "        target_seq[0, 0, sampled_token_index] = 1.0\n",
        "\n",
        "        # Update states\n",
        "        states_value = [h, c]\n",
        "    return decoded_sentence\n"
      ],
      "metadata": {
        "id": "JCRiCBrGXlZE"
      },
      "execution_count": 7,
      "outputs": []
    },
    {
      "cell_type": "markdown",
      "source": [
        "You can now generate decoded sentences as such:"
      ],
      "metadata": {
        "id": "xqrfLkW5XvMP"
      }
    },
    {
      "cell_type": "code",
      "source": [
        "for seq_index in range(20):\n",
        "    # Take one sequence (part of the training set)\n",
        "    # for trying out decoding.\n",
        "    input_seq = encoder_input_data[seq_index : seq_index + 1]\n",
        "    decoded_sentence = decode_sequence(input_seq)\n",
        "    print(\"-\")\n",
        "    print(\"Input sentence:\", input_texts[seq_index])\n",
        "    print(\"Decoded sentence:\", decoded_sentence)"
      ],
      "metadata": {
        "colab": {
          "base_uri": "https://localhost:8080/"
        },
        "id": "8ogzmK5SXsJX",
        "outputId": "afefe212-d9fd-4851-de1b-b25087a332b6"
      },
      "execution_count": 8,
      "outputs": [
        {
          "output_type": "stream",
          "name": "stdout",
          "text": [
            "-\n",
            "Input sentence: Go.\n",
            "Decoded sentence: Bouge !\n",
            "\n",
            "-\n",
            "Input sentence: Go.\n",
            "Decoded sentence: Bouge !\n",
            "\n",
            "-\n",
            "Input sentence: Go.\n",
            "Decoded sentence: Bouge !\n",
            "\n",
            "-\n",
            "Input sentence: Hi.\n",
            "Decoded sentence: Salut.\n",
            "\n",
            "-\n",
            "Input sentence: Hi.\n",
            "Decoded sentence: Salut.\n",
            "\n",
            "-\n",
            "Input sentence: Run!\n",
            "Decoded sentence: Fuyez !\n",
            "\n",
            "-\n",
            "Input sentence: Run!\n",
            "Decoded sentence: Fuyez !\n",
            "\n",
            "-\n",
            "Input sentence: Run!\n",
            "Decoded sentence: Fuyez !\n",
            "\n",
            "-\n",
            "Input sentence: Run!\n",
            "Decoded sentence: Fuyez !\n",
            "\n",
            "-\n",
            "Input sentence: Run!\n",
            "Decoded sentence: Fuyez !\n",
            "\n",
            "-\n",
            "Input sentence: Run!\n",
            "Decoded sentence: Fuyez !\n",
            "\n",
            "-\n",
            "Input sentence: Run!\n",
            "Decoded sentence: Fuyez !\n",
            "\n",
            "-\n",
            "Input sentence: Run!\n",
            "Decoded sentence: Fuyez !\n",
            "\n",
            "-\n",
            "Input sentence: Run.\n",
            "Decoded sentence: Fuyez !\n",
            "\n",
            "-\n",
            "Input sentence: Run.\n",
            "Decoded sentence: Fuyez !\n",
            "\n",
            "-\n",
            "Input sentence: Run.\n",
            "Decoded sentence: Fuyez !\n",
            "\n",
            "-\n",
            "Input sentence: Run.\n",
            "Decoded sentence: Fuyez !\n",
            "\n",
            "-\n",
            "Input sentence: Run.\n",
            "Decoded sentence: Fuyez !\n",
            "\n",
            "-\n",
            "Input sentence: Run.\n",
            "Decoded sentence: Fuyez !\n",
            "\n",
            "-\n",
            "Input sentence: Run.\n",
            "Decoded sentence: Fuyez !\n",
            "\n"
          ]
        }
      ]
    }
  ]
}