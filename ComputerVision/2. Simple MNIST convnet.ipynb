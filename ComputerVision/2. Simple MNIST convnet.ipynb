{
 "cells": [
  {
   "cell_type": "code",
   "execution_count": 1,
   "id": "9a248dff",
   "metadata": {},
   "outputs": [],
   "source": [
    "import numpy as np\n",
    "from tensorflow import keras\n",
    "from tensorflow.keras import layers"
   ]
  },
  {
   "cell_type": "code",
   "execution_count": 2,
   "id": "0e2452d9",
   "metadata": {},
   "outputs": [
    {
     "name": "stdout",
     "output_type": "stream",
     "text": [
      "Downloading data from https://storage.googleapis.com/tensorflow/tf-keras-datasets/mnist.npz\n",
      "11493376/11490434 [==============================] - 4s 0us/step: \n",
      "11501568/11490434 [==============================] - 4s 0us/step\n",
      "x_train shape: (60000, 28, 28, 1)\n",
      "60000 train samples\n",
      "10000 test samples\n"
     ]
    }
   ],
   "source": [
    "# Model / data parameters\n",
    "num_classes = 10\n",
    "input_shape = (28, 28, 1)\n",
    "\n",
    "# the data, split between train and test sets\n",
    "(x_train, y_train), (x_test, y_test) = keras.datasets.mnist.load_data()\n",
    "\n",
    "# Scale images to the [0, 1] range\n",
    "x_train = x_train.astype(\"float32\") / 255\n",
    "x_test = x_test.astype(\"float32\") / 255\n",
    "# Make sure images have shape (28, 28, 1)\n",
    "x_train = np.expand_dims(x_train, -1)\n",
    "x_test = np.expand_dims(x_test, -1)\n",
    "print(\"x_train shape:\", x_train.shape)\n",
    "print(x_train.shape[0], \"train samples\")\n",
    "print(x_test.shape[0], \"test samples\")\n",
    "\n",
    "\n",
    "# convert class vectors to binary class matrices\n",
    "y_train = keras.utils.to_categorical(y_train, num_classes)\n",
    "y_test = keras.utils.to_categorical(y_test, num_classes)"
   ]
  },
  {
   "cell_type": "code",
   "execution_count": 3,
   "id": "e4485db1",
   "metadata": {},
   "outputs": [
    {
     "name": "stdout",
     "output_type": "stream",
     "text": [
      "Model: \"sequential\"\n",
      "_________________________________________________________________\n",
      " Layer (type)                Output Shape              Param #   \n",
      "=================================================================\n",
      " conv2d (Conv2D)             (None, 26, 26, 32)        320       \n",
      "                                                                 \n",
      " max_pooling2d (MaxPooling2D  (None, 13, 13, 32)       0         \n",
      " )                                                               \n",
      "                                                                 \n",
      " conv2d_1 (Conv2D)           (None, 11, 11, 64)        18496     \n",
      "                                                                 \n",
      " max_pooling2d_1 (MaxPooling  (None, 5, 5, 64)         0         \n",
      " 2D)                                                             \n",
      "                                                                 \n",
      " flatten (Flatten)           (None, 1600)              0         \n",
      "                                                                 \n",
      " dropout (Dropout)           (None, 1600)              0         \n",
      "                                                                 \n",
      " dense (Dense)               (None, 10)                16010     \n",
      "                                                                 \n",
      "=================================================================\n",
      "Total params: 34,826\n",
      "Trainable params: 34,826\n",
      "Non-trainable params: 0\n",
      "_________________________________________________________________\n"
     ]
    }
   ],
   "source": [
    "model = keras.Sequential(\n",
    "    [\n",
    "        keras.Input(shape=input_shape),\n",
    "        layers.Conv2D(32, kernel_size=(3, 3), activation=\"relu\"),\n",
    "        layers.MaxPooling2D(pool_size=(2, 2)),\n",
    "        layers.Conv2D(64, kernel_size=(3, 3), activation=\"relu\"),\n",
    "        layers.MaxPooling2D(pool_size=(2, 2)),\n",
    "        layers.Flatten(),\n",
    "        layers.Dropout(0.5),\n",
    "        layers.Dense(num_classes, activation=\"softmax\"),\n",
    "    ]\n",
    ")\n",
    "\n",
    "model.summary()"
   ]
  },
  {
   "cell_type": "code",
   "execution_count": 7,
   "id": "c02ad38c",
   "metadata": {},
   "outputs": [
    {
     "name": "stdout",
     "output_type": "stream",
     "text": [
      "[PhysicalDevice(name='/physical_device:CPU:0', device_type='CPU'), PhysicalDevice(name='/physical_device:GPU:0', device_type='GPU')]\n"
     ]
    }
   ],
   "source": [
    "import tensorflow as tf\n",
    "print(tf.config.list_physical_devices())"
   ]
  },
  {
   "cell_type": "code",
   "execution_count": 9,
   "id": "14f01fda",
   "metadata": {},
   "outputs": [
    {
     "name": "stdout",
     "output_type": "stream",
     "text": [
      "Epoch 1/15\n",
      "422/422 [==============================] - 59s 135ms/step - loss: 0.3533 - accuracy: 0.8930 - val_loss: 0.0912 - val_accuracy: 0.9733\n",
      "Epoch 2/15\n",
      "422/422 [==============================] - 45s 107ms/step - loss: 0.1159 - accuracy: 0.9641 - val_loss: 0.0597 - val_accuracy: 0.9842\n",
      "Epoch 3/15\n",
      "422/422 [==============================] - 51s 121ms/step - loss: 0.0885 - accuracy: 0.9725 - val_loss: 0.0514 - val_accuracy: 0.9867.0922 - accuracy: 0.971 - ETA: 35s - loss: 0.0923 - accuracy: 0. - ETA: 34s - loss: 0.0930 - accuracy: 0.971 - ETA: 34s - loss: 0.093 - ETA - ETA: 27s - loss: 0.0925 - - ETA: 25s - loss: 0.0 -  - ETA: 18s - loss: 0.08 - ETA: 16s - loss: 0.0894 - accuracy: 0.971 - ETA: 16 - ETA: 11s - loss - ETA: 3s - loss:\n",
      "Epoch 4/15\n",
      "422/422 [==============================] - 51s 122ms/step - loss: 0.0731 - accuracy: 0.9779 - val_loss: 0.0430 - val_accuracy: 0.9892A: 30s - loss: 0.0765 -  - ETA: 28s - loss: 0.0 - ETA: 26s - loss: 0.0741 - accuracy:  - ETA: 25s - loss: 0.0748 - a - ETA: 23s - loss: 0.0743 - a - ETA: 21s - loss: 0.0745 - accuracy:  - ETA: 21s - loss: 0.0742 - accuracy - ETA: 20s - loss: 0.0739 - accuracy: 0. - ETA: - ETA: 1s -\n",
      "Epoch 5/15\n",
      "422/422 [==============================] - 50s 118ms/step - loss: 0.0634 - accuracy: 0.9798 - val_loss: 0.0403 - val_accuracy: 0.9895oss: 0.0601 - accu - ETA: 35s - loss: 0.0599 - accurac - ETA: 34s - loss: 0.0590 - accur - ETA: 33s - loss: 0.0582 -  - ETA: 31s - loss: 0.0596 - accur - ETA: 29s - loss: 0.0603 - a - ETA: 28 - ETA: 23s - loss: 0.0619 - accuracy: 0 - ETA: 23s - loss: 0.0615 - accuracy: 0 - ETA: 22s - loss: 0.0615 - acc - ETA: 21s - loss: 0.0613 - accuracy: 0 - ETA: 20s - loss: 0.0617 - accuracy - ETA: 19s - loss: 0.0618 - accuracy: 0.979 - ETA: 19s - loss: 0.0621 - accuracy: 0.979 - ETA: 19s - loss: 0.0622  - ETA: 17s - loss: 0.0625 - accuracy: 0.979 - ETA: 17s - loss: 0.0625 - accuracy: 0 - ETA: 16s - loss: 0.0626 - accuracy - ETA: 15s - loss: 0.0 - ETA: 13s - loss: 0.0622 -  - ETA: 11s - loss: 0.0634 - accuracy: 0. - ETA: 11s - l - ETA: 8s - loss: 0.0627 - ac - ETA: 8s - loss: 0.0629 -  - ETA: 7s - loss: 0 - ETA: 5s - loss: 0.0624 - accura - ETA:  - ETA: 3s - loss: 0.0632 - accuracy: 0. - ETA - ETA: 0s - loss: 0.0632 \n",
      "Epoch 6/15\n",
      "422/422 [==============================] - 23s 55ms/step - loss: 0.0586 - accuracy: 0.9814 - val_loss: 0.0376 - val_accuracy: 0.9900\n",
      "Epoch 7/15\n",
      "422/422 [==============================] - 63s 149ms/step - loss: 0.0540 - accuracy: 0.9830 - val_loss: 0.0362 - val_accuracy: 0.9907ETA: 5s -\n",
      "Epoch 8/15\n",
      "422/422 [==============================] - 53s 127ms/step - loss: 0.0475 - accuracy: 0.9848 - val_loss: 0.0343 - val_accuracy: 0.9912\n",
      "Epoch 9/15\n",
      "422/422 [==============================] - 59s 140ms/step - loss: 0.0452 - accuracy: 0.9857 - val_loss: 0.0317 - val_accuracy: 0.9913s - loss: 0.0521 - a  - ETA: 37s - loss: 0.0489 - - ETA: 35s - loss: 0.0483  - ETA: 32s - loss: 0.0474 - accuracy: 0.98 - ETA: 32s - loss: 0.0472 - accuracy: - ETA: 31s - loss: 0.0467 - accur - ETA - ETA: 15s - loss: 0.0462 - accuracy: 0.98 - ETA: 14s - loss: 0.0461 - accuracy: 0 - ETA: 14s - loss: 0.0462 - accuracy: 0 - ETA: 13s - loss: 0.0463 - ac - ETA: 11s - loss: 0.046 - ETA: 9s - - ETA: 7s - loss: 0.0 - ETA: 2s - loss: - ETA: 0s - loss: 0.0452 - accu\n",
      "Epoch 10/15\n",
      "422/422 [==============================] - 54s 127ms/step - loss: 0.0425 - accuracy: 0.9866 - val_loss: 0.0322 - val_accuracy: 0.9908ss: 0.0416 - acc - ETA: 32s - loss: 0.0415 - accuracy: 0.986 - ETA: 32s - loss: 0.0413 - accuracy - ETA: 31s - loss: 0.0413 - accuracy: 0.986 - ETA: 31s - loss: 0.0412 - accuracy: 0. - ETA: 31s - loss: 0.0409 - accuracy: 0.986 - ETA: 31s - loss: 0.0410 - accur - ETA: 30s - loss: 0.0408 - accuracy: 0.986 - ETA: 30s - loss: 0.04 - ETA: 27s - loss: 0.0405 - - ETA: 25s - loss: 0.0412 - accuracy: 0.986 - ETA: 25s - loss: - ETA: 3s - loss: 0.0426 - accu\n",
      "Epoch 11/15\n",
      "422/422 [==============================] - 47s 111ms/step - loss: 0.0412 - accuracy: 0.9866 - val_loss: 0.0356 - val_accuracy: 0.9897\n",
      "Epoch 12/15\n",
      "422/422 [==============================] - 32s 76ms/step - loss: 0.0385 - accuracy: 0.9876 - val_loss: 0.0307 - val_accuracy: 0.9905\n",
      "Epoch 13/15\n",
      "422/422 [==============================] - 40s 94ms/step - loss: 0.0365 - accuracy: 0.9879 - val_loss: 0.0318 - val_accuracy: 0.9913acy: 0. - ETA: 0s - loss: 0.0365 - accu - ETA: 0s - loss: 0.0366 - accuracy: \n",
      "Epoch 14/15\n",
      "422/422 [==============================] - 58s 138ms/step - loss: 0.0358 - accuracy: 0.9884 - val_loss: 0.0287 - val_accuracy: 0.9923\n",
      "Epoch 15/15\n",
      "422/422 [==============================] - 54s 129ms/step - loss: 0.0336 - accuracy: 0.9887 - val_loss: 0.0290 - val_accuracy: 0.9915\n"
     ]
    },
    {
     "data": {
      "text/plain": [
       "<keras.callbacks.History at 0x235addd56a0>"
      ]
     },
     "execution_count": 9,
     "metadata": {},
     "output_type": "execute_result"
    }
   ],
   "source": [
    "batch_size = 128\n",
    "epochs = 15\n",
    "\n",
    "model.compile(loss=\"categorical_crossentropy\", optimizer=\"adam\", metrics=[\"accuracy\"])\n",
    "\n",
    "model.fit(x_train, y_train, batch_size=batch_size, epochs=epochs, validation_split=0.1)"
   ]
  },
  {
   "cell_type": "code",
   "execution_count": 10,
   "id": "3872f0b1",
   "metadata": {},
   "outputs": [
    {
     "name": "stdout",
     "output_type": "stream",
     "text": [
      "Test loss: 0.027345824986696243\n",
      "Test accuracy: 0.9904999732971191\n"
     ]
    }
   ],
   "source": [
    "score = model.evaluate(x_test, y_test, verbose=0)\n",
    "print(\"Test loss:\", score[0])\n",
    "print(\"Test accuracy:\", score[1])"
   ]
  }
 ],
 "metadata": {
  "kernelspec": {
   "display_name": "Python 3 (ipykernel)",
   "language": "python",
   "name": "python3"
  },
  "language_info": {
   "codemirror_mode": {
    "name": "ipython",
    "version": 3
   },
   "file_extension": ".py",
   "mimetype": "text/x-python",
   "name": "python",
   "nbconvert_exporter": "python",
   "pygments_lexer": "ipython3",
   "version": "3.9.5"
  }
 },
 "nbformat": 4,
 "nbformat_minor": 5
}
